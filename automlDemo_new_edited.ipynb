{
 "cells": [
  {
   "cell_type": "markdown",
   "id": "dd400dac-2ddd-4c6e-bd80-031e337df7b5",
   "metadata": {
    "jupyter": {
     "source_hidden": true
    },
    "tags": []
   },
   "source": [
    "### OCI Data Science - Useful Tips\n",
    "<details>\n",
    "<summary><font size=\"2\">Check for Public Internet Access</font></summary>\n",
    "\n",
    "```python\n",
    "import requests\n",
    "response = requests.get(\"https://oracle.com\")\n",
    "assert response.status_code==200, \"Internet connection failed\"\n",
    "```\n",
    "</details>\n",
    "<details>\n",
    "<summary><font size=\"2\">Helpful Documentation </font></summary>\n",
    "<ul><li><a href=\"https://docs.cloud.oracle.com/en-us/iaas/data-science/using/data-science.htm\">Data Science Service Documentation</a></li>\n",
    "<li><a href=\"https://docs.cloud.oracle.com/iaas/tools/ads-sdk/latest/index.html\">ADS documentation</a></li>\n",
    "</ul>\n",
    "</details>\n",
    "<details>\n",
    "<summary><font size=\"2\">Typical Cell Imports and Settings for ADS</font></summary>\n",
    "\n",
    "```python\n",
    "%load_ext autoreload\n",
    "%autoreload 2\n",
    "%matplotlib inline\n",
    "\n",
    "import warnings\n",
    "warnings.filterwarnings('ignore')\n",
    "\n",
    "import logging\n",
    "logging.basicConfig(format='%(levelname)s:%(message)s', level=logging.ERROR)\n",
    "\n",
    "import ads\n",
    "from ads.dataset.factory import DatasetFactory\n",
    "from ads.automl.provider import OracleAutoMLProvider\n",
    "from ads.automl.driver import AutoML\n",
    "from ads.evaluations.evaluator import ADSEvaluator\n",
    "from ads.common.data import ADSData\n",
    "from ads.explanations.explainer import ADSExplainer\n",
    "from ads.explanations.mlx_global_explainer import MLXGlobalExplainer\n",
    "from ads.explanations.mlx_local_explainer import MLXLocalExplainer\n",
    "from ads.catalog.model import ModelCatalog\n",
    "from ads.common.model_artifact import ModelArtifact\n",
    "```\n",
    "</details>\n",
    "<details>\n",
    "<summary><font size=\"2\">Useful Environment Variables</font></summary>\n",
    "\n",
    "```python\n",
    "import os\n",
    "print(os.environ[\"NB_SESSION_COMPARTMENT_OCID\"])\n",
    "print(os.environ[\"PROJECT_OCID\"])\n",
    "print(os.environ[\"USER_OCID\"])\n",
    "print(os.environ[\"TENANCY_OCID\"])\n",
    "print(os.environ[\"NB_REGION\"])\n",
    "```\n",
    "</details>"
   ]
  },
  {
   "cell_type": "code",
   "execution_count": 1,
   "id": "7a22080a-52df-42fa-bd18-02903967596d",
   "metadata": {
    "tags": []
   },
   "outputs": [],
   "source": [
    "%matplotlib inline\n",
    "%load_ext autoreload\n",
    "%autoreload 2\n"
   ]
  },
  {
   "cell_type": "code",
   "execution_count": 2,
   "id": "c6039536-14cc-4ae8-8e24-63e424bf9b3a",
   "metadata": {
    "tags": []
   },
   "outputs": [],
   "source": [
    "import gzip  # Trabalha com arquivos comprimidos no formato .gz (gzip)\n",
    "import pandas as pd  # Manipulação de dados em formato de tabela (DataFrame)\n",
    "import numpy as np  # Operações matemáticas e estruturas de arrays eficientes\n",
    "import matplotlib.pyplot as plt  # Criação de gráficos básicos e visualizações\n",
    "import seaborn as sns  # Gráficos estatísticos com estilo mais bonito (baseado no matplotlib)\n",
    "from sklearn.metrics import (\n",
    "    roc_auc_score,        # Métrica AUC para avaliação de classificadores\n",
    "    confusion_matrix,     # Matriz de confusão para avaliação de modelos\n",
    "    make_scorer,          # Criação de métricas personalizadas\n",
    "    f1_score              # Métrica F1 que combina precisão e recall\n",
    ")\n",
    "from sklearn.linear_model import LogisticRegression  # Algoritmo de regressão logística (classificação binária)\n",
    "from sklearn.compose import make_column_selector as selector  # Seleciona colunas com base em tipo ou nomes\n",
    "from sklearn.impute import SimpleImputer  # Preenchimento de valores ausentes (missing data)\n",
    "from sklearn.preprocessing import StandardScaler, OneHotEncoder  # Padronização de dados e codificação categórica\n",
    "from sklearn.compose import ColumnTransformer  # Aplica transformações diferentes em colunas distintas\n",
    "from sklearn.pipeline import Pipeline  # Cria sequência ordenada de etapas (pipeline de modelagem)\n",
    "from sklearn.datasets import fetch_openml  # Baixa datasets públicos do OpenML direto pro seu notebook\n",
    "from sklearn.model_selection import train_test_split  # Divide os dados entre treino e teste\n",
    "\n",
    "#Settings for plots\n",
    "plt.rcParams['figure.figsize'] = [10, 7]  # Define o tamanho padrão dos gráficos como 10x7 polegadas\n",
    "plt.rcParams['font.size'] = 15            # Define o tamanho padrão da fonte nos gráficos matplotlib\n",
    "sns.set(color_codes=True)                 # Ativa uso de códigos de cor (ex: 'b' para azul) no Seaborn\n",
    "sns.set(font_scale=1.5)                   # Aumenta a escala do tamanho da fonte nos gráficos do Seaborn\n",
    "sns.set_palette(\"bright\")                 # Define paleta de cores vibrantes para os gráficos do Seaborn\n",
    "sns.set_style(\"whitegrid\")                # Aplica estilo com fundo branco e linhas de grade (ideal pra visualização)"
   ]
  },
  {
   "cell_type": "code",
   "execution_count": 3,
   "id": "c4bec799-0d81-465b-b042-7c3a3dc0b2a8",
   "metadata": {
    "tags": []
   },
   "outputs": [
    {
     "name": "stderr",
     "output_type": "stream",
     "text": [
      "c:\\Users\\JORGE BRX\\miniconda3\\envs\\automlx-env\\lib\\site-packages\\sklearn\\datasets\\_openml.py:311: UserWarning: Multiple active versions of the dataset matching the name adult exist. Versions may be fundamentally different, returning version 1.\n",
      "  warn(\n",
      "c:\\Users\\JORGE BRX\\miniconda3\\envs\\automlx-env\\lib\\site-packages\\sklearn\\datasets\\_openml.py:1022: FutureWarning: The default value of `parser` will change from `'liac-arff'` to `'auto'` in 1.4. You can set `parser='auto'` to silence this warning. Therefore, an `ImportError` will be raised from 1.4 if the dataset is dense and pandas is not installed. Note that the pandas parser may return different data types. See the Notes Section in fetch_openml's API doc for details.\n",
      "  warn(\n"
     ]
    }
   ],
   "source": [
    "\n",
    "\n",
    "dataset = fetch_openml(name = 'adult', as_frame =True)\n",
    "df, y = dataset.data, dataset.target"
   ]
  },
  {
   "cell_type": "code",
   "execution_count": 4,
   "id": "608f73e4-3d1e-4675-92fa-8778386bf24e",
   "metadata": {
    "tags": []
   },
   "outputs": [
    {
     "data": {
      "text/html": [
       "<div>\n",
       "<style scoped>\n",
       "    .dataframe tbody tr th:only-of-type {\n",
       "        vertical-align: middle;\n",
       "    }\n",
       "\n",
       "    .dataframe tbody tr th {\n",
       "        vertical-align: top;\n",
       "    }\n",
       "\n",
       "    .dataframe thead th {\n",
       "        text-align: right;\n",
       "    }\n",
       "</style>\n",
       "<table border=\"1\" class=\"dataframe\">\n",
       "  <thead>\n",
       "    <tr style=\"text-align: right;\">\n",
       "      <th></th>\n",
       "      <th>age</th>\n",
       "      <th>workclass</th>\n",
       "      <th>fnlwgt</th>\n",
       "      <th>education</th>\n",
       "      <th>education-num</th>\n",
       "      <th>marital-status</th>\n",
       "      <th>occupation</th>\n",
       "      <th>relationship</th>\n",
       "      <th>race</th>\n",
       "      <th>sex</th>\n",
       "      <th>capitalgain</th>\n",
       "      <th>capitalloss</th>\n",
       "      <th>hoursperweek</th>\n",
       "      <th>native-country</th>\n",
       "    </tr>\n",
       "  </thead>\n",
       "  <tbody>\n",
       "    <tr>\n",
       "      <th>0</th>\n",
       "      <td>2</td>\n",
       "      <td>State-gov</td>\n",
       "      <td>77516.0</td>\n",
       "      <td>Bachelors</td>\n",
       "      <td>13.0</td>\n",
       "      <td>Never-married</td>\n",
       "      <td>Adm-clerical</td>\n",
       "      <td>Not-in-family</td>\n",
       "      <td>White</td>\n",
       "      <td>Male</td>\n",
       "      <td>1</td>\n",
       "      <td>0</td>\n",
       "      <td>2</td>\n",
       "      <td>United-States</td>\n",
       "    </tr>\n",
       "    <tr>\n",
       "      <th>1</th>\n",
       "      <td>3</td>\n",
       "      <td>Self-emp-not-inc</td>\n",
       "      <td>83311.0</td>\n",
       "      <td>Bachelors</td>\n",
       "      <td>13.0</td>\n",
       "      <td>Married-civ-spouse</td>\n",
       "      <td>Exec-managerial</td>\n",
       "      <td>Husband</td>\n",
       "      <td>White</td>\n",
       "      <td>Male</td>\n",
       "      <td>0</td>\n",
       "      <td>0</td>\n",
       "      <td>0</td>\n",
       "      <td>United-States</td>\n",
       "    </tr>\n",
       "    <tr>\n",
       "      <th>2</th>\n",
       "      <td>2</td>\n",
       "      <td>Private</td>\n",
       "      <td>215646.0</td>\n",
       "      <td>HS-grad</td>\n",
       "      <td>9.0</td>\n",
       "      <td>Divorced</td>\n",
       "      <td>Handlers-cleaners</td>\n",
       "      <td>Not-in-family</td>\n",
       "      <td>White</td>\n",
       "      <td>Male</td>\n",
       "      <td>0</td>\n",
       "      <td>0</td>\n",
       "      <td>2</td>\n",
       "      <td>United-States</td>\n",
       "    </tr>\n",
       "    <tr>\n",
       "      <th>3</th>\n",
       "      <td>3</td>\n",
       "      <td>Private</td>\n",
       "      <td>234721.0</td>\n",
       "      <td>11th</td>\n",
       "      <td>7.0</td>\n",
       "      <td>Married-civ-spouse</td>\n",
       "      <td>Handlers-cleaners</td>\n",
       "      <td>Husband</td>\n",
       "      <td>Black</td>\n",
       "      <td>Male</td>\n",
       "      <td>0</td>\n",
       "      <td>0</td>\n",
       "      <td>2</td>\n",
       "      <td>United-States</td>\n",
       "    </tr>\n",
       "    <tr>\n",
       "      <th>4</th>\n",
       "      <td>1</td>\n",
       "      <td>Private</td>\n",
       "      <td>338409.0</td>\n",
       "      <td>Bachelors</td>\n",
       "      <td>13.0</td>\n",
       "      <td>Married-civ-spouse</td>\n",
       "      <td>Prof-specialty</td>\n",
       "      <td>Wife</td>\n",
       "      <td>Black</td>\n",
       "      <td>Female</td>\n",
       "      <td>0</td>\n",
       "      <td>0</td>\n",
       "      <td>2</td>\n",
       "      <td>Cuba</td>\n",
       "    </tr>\n",
       "  </tbody>\n",
       "</table>\n",
       "</div>"
      ],
      "text/plain": [
       "  age         workclass    fnlwgt  education  education-num  \\\n",
       "0   2         State-gov   77516.0  Bachelors           13.0   \n",
       "1   3  Self-emp-not-inc   83311.0  Bachelors           13.0   \n",
       "2   2           Private  215646.0    HS-grad            9.0   \n",
       "3   3           Private  234721.0       11th            7.0   \n",
       "4   1           Private  338409.0  Bachelors           13.0   \n",
       "\n",
       "       marital-status         occupation   relationship   race     sex  \\\n",
       "0       Never-married       Adm-clerical  Not-in-family  White    Male   \n",
       "1  Married-civ-spouse    Exec-managerial        Husband  White    Male   \n",
       "2            Divorced  Handlers-cleaners  Not-in-family  White    Male   \n",
       "3  Married-civ-spouse  Handlers-cleaners        Husband  Black    Male   \n",
       "4  Married-civ-spouse     Prof-specialty           Wife  Black  Female   \n",
       "\n",
       "  capitalgain capitalloss hoursperweek native-country  \n",
       "0           1           0            2  United-States  \n",
       "1           0           0            0  United-States  \n",
       "2           0           0            2  United-States  \n",
       "3           0           0            2  United-States  \n",
       "4           0           0            2           Cuba  "
      ]
     },
     "execution_count": 4,
     "metadata": {},
     "output_type": "execute_result"
    }
   ],
   "source": [
    "df.head()"
   ]
  },
  {
   "cell_type": "code",
   "execution_count": 5,
   "id": "b531059c",
   "metadata": {
    "tags": []
   },
   "outputs": [
    {
     "name": "stdout",
     "output_type": "stream",
     "text": [
      "\n",
      "Class type: <=50K - >50K\n",
      "DataSet has 48842 rows and 15 columns\n",
      "\n",
      "Class <=50K has 0 rows\n",
      "\n",
      "Class >50K has 0 rows\n"
     ]
    }
   ],
   "source": [
    "\n",
    "class_type = y.unique();\n",
    "print(f\"\\nClass type: {class_type[0]} - {class_type[1]}\")\n",
    "\n",
    "df[y.name] = y.astype('category').cat.codes  # Converte a variável alvo para o tipo categórico\n",
    "\n",
    "r = len(df)\n",
    "\n",
    "print(f\"DataSet has {r} rows and {df.shape[1]} columns\")\n",
    "\n",
    "for r in y.unique():\n",
    "    print(f\"\\nClass {r} has {len(df[df[y.name] == r])} rows\")\n",
    "\n"
   ]
  },
  {
   "cell_type": "code",
   "execution_count": 6,
   "id": "87bf24f8",
   "metadata": {
    "tags": []
   },
   "outputs": [
    {
     "data": {
      "text/html": [
       "<div>\n",
       "<style scoped>\n",
       "    .dataframe tbody tr th:only-of-type {\n",
       "        vertical-align: middle;\n",
       "    }\n",
       "\n",
       "    .dataframe tbody tr th {\n",
       "        vertical-align: top;\n",
       "    }\n",
       "\n",
       "    .dataframe thead th {\n",
       "        text-align: right;\n",
       "    }\n",
       "</style>\n",
       "<table border=\"1\" class=\"dataframe\">\n",
       "  <thead>\n",
       "    <tr style=\"text-align: right;\">\n",
       "      <th></th>\n",
       "      <th>age</th>\n",
       "      <th>workclass</th>\n",
       "      <th>fnlwgt</th>\n",
       "      <th>education</th>\n",
       "      <th>education-num</th>\n",
       "      <th>marital-status</th>\n",
       "      <th>occupation</th>\n",
       "      <th>relationship</th>\n",
       "      <th>race</th>\n",
       "      <th>sex</th>\n",
       "      <th>capitalgain</th>\n",
       "      <th>capitalloss</th>\n",
       "      <th>hoursperweek</th>\n",
       "      <th>native-country</th>\n",
       "      <th>class</th>\n",
       "    </tr>\n",
       "  </thead>\n",
       "  <tbody>\n",
       "    <tr>\n",
       "      <th>Data types</th>\n",
       "      <td>category</td>\n",
       "      <td>category</td>\n",
       "      <td>float64</td>\n",
       "      <td>category</td>\n",
       "      <td>float64</td>\n",
       "      <td>category</td>\n",
       "      <td>category</td>\n",
       "      <td>category</td>\n",
       "      <td>category</td>\n",
       "      <td>category</td>\n",
       "      <td>category</td>\n",
       "      <td>category</td>\n",
       "      <td>category</td>\n",
       "      <td>category</td>\n",
       "      <td>int8</td>\n",
       "    </tr>\n",
       "  </tbody>\n",
       "</table>\n",
       "</div>"
      ],
      "text/plain": [
       "                 age workclass   fnlwgt education education-num  \\\n",
       "Data types  category  category  float64  category       float64   \n",
       "\n",
       "           marital-status occupation relationship      race       sex  \\\n",
       "Data types       category   category     category  category  category   \n",
       "\n",
       "           capitalgain capitalloss hoursperweek native-country class  \n",
       "Data types    category    category     category       category  int8  "
      ]
     },
     "execution_count": 6,
     "metadata": {},
     "output_type": "execute_result"
    }
   ],
   "source": [
    "pd.DataFrame({'Data types': df.dtypes}).T"
   ]
  },
  {
   "cell_type": "code",
   "execution_count": 7,
   "id": "6fdc0cf4",
   "metadata": {
    "tags": []
   },
   "outputs": [
    {
     "data": {
      "text/html": [
       "<div>\n",
       "<style scoped>\n",
       "    .dataframe tbody tr th:only-of-type {\n",
       "        vertical-align: middle;\n",
       "    }\n",
       "\n",
       "    .dataframe tbody tr th {\n",
       "        vertical-align: top;\n",
       "    }\n",
       "\n",
       "    .dataframe thead th {\n",
       "        text-align: right;\n",
       "    }\n",
       "</style>\n",
       "<table border=\"1\" class=\"dataframe\">\n",
       "  <thead>\n",
       "    <tr style=\"text-align: right;\">\n",
       "      <th></th>\n",
       "      <th>age</th>\n",
       "      <th>workclass</th>\n",
       "      <th>fnlwgt</th>\n",
       "      <th>education</th>\n",
       "      <th>education-num</th>\n",
       "      <th>marital-status</th>\n",
       "      <th>occupation</th>\n",
       "      <th>relationship</th>\n",
       "      <th>race</th>\n",
       "      <th>sex</th>\n",
       "      <th>capitalgain</th>\n",
       "      <th>capitalloss</th>\n",
       "      <th>hoursperweek</th>\n",
       "      <th>native-country</th>\n",
       "      <th>class</th>\n",
       "    </tr>\n",
       "  </thead>\n",
       "  <tbody>\n",
       "    <tr>\n",
       "      <th>Missing values</th>\n",
       "      <td>0.0</td>\n",
       "      <td>5.730724</td>\n",
       "      <td>0.0</td>\n",
       "      <td>0.0</td>\n",
       "      <td>0.0</td>\n",
       "      <td>0.0</td>\n",
       "      <td>5.751198</td>\n",
       "      <td>0.0</td>\n",
       "      <td>0.0</td>\n",
       "      <td>0.0</td>\n",
       "      <td>0.0</td>\n",
       "      <td>0.0</td>\n",
       "      <td>0.0</td>\n",
       "      <td>1.754637</td>\n",
       "      <td>0.0</td>\n",
       "    </tr>\n",
       "  </tbody>\n",
       "</table>\n",
       "</div>"
      ],
      "text/plain": [
       "                age  workclass  fnlwgt  education  education-num  \\\n",
       "Missing values  0.0   5.730724     0.0        0.0            0.0   \n",
       "\n",
       "                marital-status  occupation  relationship  race  sex  \\\n",
       "Missing values             0.0    5.751198           0.0   0.0  0.0   \n",
       "\n",
       "                capitalgain  capitalloss  hoursperweek  native-country  class  \n",
       "Missing values          0.0          0.0           0.0        1.754637    0.0  "
      ]
     },
     "execution_count": 7,
     "metadata": {},
     "output_type": "execute_result"
    }
   ],
   "source": [
    "pd.DataFrame({'Missing values': df.isnull().sum() * 100/ len(df)}).T"
   ]
  },
  {
   "cell_type": "code",
   "execution_count": 8,
   "id": "2ce4bf68",
   "metadata": {
    "tags": []
   },
   "outputs": [
    {
     "data": {
      "image/png": "[encoded data removed]",
      "text/plain": [
       "<Figure size 1000x700 with 1 Axes>"
      ]
     },
     "metadata": {},
     "output_type": "display_data"
    }
   ],
   "source": [
    "y_df = pd.DataFrame(y);\n",
    "y_df.columns = ['income']  # Renomeia a coluna do DataFrame de y para o nome original\n",
    "\n",
    "ax = sns.countplot(x='income', data=y_df) # Plota a contagem de cada classe na variável alvo 'income'\n",
    "ax.bar_label(ax.containers[0])  # Adiciona rótulos de contagem em cima de cada barra do gráfico\n",
    "\n",
    "plt.title('Contagem de cada classe em income')  # Define o título do gráfico\n",
    "plt.xlabel('Classe')\n",
    "plt.ylabel('Quantidade')\n",
    "plt.show()"
   ]
  },
  {
   "cell_type": "code",
   "execution_count": 9,
   "id": "a955ec2c",
   "metadata": {
    "tags": []
   },
   "outputs": [
    {
     "data": {
      "text/plain": [
       "((34189, 15), (14653, 15))"
      ]
     },
     "execution_count": 9,
     "metadata": {},
     "output_type": "execute_result"
    }
   ],
   "source": [
    "numeric_columns = ['age', 'capitalgain', 'capitalloss', 'hoursperweek']\n",
    "for col in df.columns:\n",
    "    if col in numeric_columns:\n",
    "        df[col] = df[col].astype('int')\n",
    "\n",
    "# Map y to binary and convert to int\n",
    "y_binary = y.map({'>50K': 1, '<=50K': 0}).astype(int)\n",
    "\n",
    "# Split the data\n",
    "X_train, X_test, y_train, y_test = train_test_split(df, y_binary, train_size=0.7, random_state=42)\n",
    "\n",
    "X_train.shape, X_test.shape  # Divide os dados em conjuntos de treino e teste, mapeando as classes para 1 e 0"
   ]
  },
  {
   "cell_type": "code",
   "execution_count": null,
   "id": "309f6462",
   "metadata": {
    "tags": []
   },
   "outputs": [],
   "source": [
    "try:\n",
    "    from automlx import init\n",
    "    # Inicializa o ambiente AutoML com configurações básicas\n",
    "    init(engine='local', n_workers=1, memory_limit='4GB', verbose=1)\n",
    "    print(\"AutoMLx inicializado com sucesso!\")\n",
    "except ImportError:\n",
    "    print(\"Erro: biblioteca automlx não encontrada. Por favor instale com 'pip install automlx'\")\n",
    "except Exception as e:\n",
    "    print(f\"Erro ao inicializar AutoMLx: {str(e)}\")"
   ]
  },
  {
   "cell_type": "code",
   "execution_count": null,
   "id": "db7333c2",
   "metadata": {
    "tags": []
   },
   "outputs": [],
   "source": [
    "from automlx import Pipeline\n",
    "\n",
    "# Cria o pipeline diretamente\n",
    "est1 = Pipeline(task='classification', engine='local', memory_limit='4GB')\n",
    "est1.fit(X_train, y_train)  # Treina o modelo com os dados de treino"
   ]
  },
  {
   "cell_type": "code",
   "execution_count": null,
   "id": "7cc6eb61",
   "metadata": {},
   "outputs": [],
   "source": []
  },
  {
   "cell_type": "code",
   "execution_count": null,
   "id": "c4e0fc23-92db-4c3c-9685-6a58966a91e4",
   "metadata": {
    "tags": []
   },
   "outputs": [],
   "source": [
    "y_proba = est1.predict_proba(X_test)\n",
    "score_default = roc_auc_score(y_test,y_proba[:,1])\n",
    "\n",
    "print(f'Score on test data: {score_default}')"
   ]
  },
  {
   "cell_type": "code",
   "execution_count": null,
   "id": "65739f83-1b19-4ec1-ac69-bd1996476a53",
   "metadata": {
    "tags": []
   },
   "outputs": [],
   "source": [
    "est1.print_summary()"
   ]
  },
  {
   "cell_type": "code",
   "execution_count": null,
   "id": "f75de9f7-a55d-433a-aaaa-e0b2fdc94c52",
   "metadata": {
    "tags": []
   },
   "outputs": [],
   "source": [
    "# Cada tentativa é uma tupla de:\n",
    "# (algoritmo, nº de amostras, nº de features, score médio de CV, hiperparâmetros,\n",
    "#  todos os scores de CV, tempo total de CV (s), uso de memória (GB))\n",
    "\n",
    "trials = est1.model_selection_trials_  # Obtém a lista de tentativas de seleção de modelo realizadas pelo AutoML\n",
    "colors = []  # Lista para armazenar as cores das barras no gráfico\n",
    "\n",
    "# Extrai apenas os scores médios de validação cruzada (posição 3 da tupla)\n",
    "scores = [x[3] for x in trials]\n",
    "\n",
    "# Extrai os nomes dos algoritmos (posição 0 da tupla)\n",
    "models = [x[0] for x in trials]\n",
    "\n",
    "# Define a margem de espaço acima e abaixo dos scores para o eixo Y\n",
    "y_margin = 0.10 * (max(scores) - min(scores))\n",
    "\n",
    "# Cria uma Series do pandas com os scores indexados pelos modelos, ordenada do maior para o menor score\n",
    "s = pd.Series(scores, index=models).sort_values(ascending=False)\n",
    "\n",
    "# Define a cor de cada barra com base no desempenho em relação à média\n",
    "for f in s.keys():\n",
    "    if f == '{}_AS'.format(est1.selected_model_):  # Se for o modelo selecionado\n",
    "        colors.append('orange')  # Cor laranja para o melhor modelo\n",
    "    elif s[f] > s.mean():  # Se o score for acima da média\n",
    "        colors.append('teal')  # Cor azul-petróleo\n",
    "    else:\n",
    "        colors.append('turquoise')  # Caso contrário, cor turquesa\n",
    "\n",
    "# Cria o gráfico de barras\n",
    "fig, ax = plt.subplots(1)\n",
    "\n",
    "# Define o título do gráfico\n",
    "ax.set_title(\"Algorithm Selection Trials\")\n",
    "\n",
    "# Define os limites do eixo Y com margem\n",
    "ax.set_ylim(min(scores) - y_margin, max(scores) + y_margin)\n",
    "\n",
    "# Define o rótulo do eixo Y com a métrica inferida (ex: Acurácia, F1, etc.)\n",
    "ax.set_ylabel(est1.inferred_score_metric[0])\n",
    "\n",
    "# Plota as barras com as cores definidas e borda preta\n",
    "s.plot.bar(ax=ax, color=colors, edgecolor='black')\n",
    "\n",
    "# Adiciona uma linha horizontal preta indicando o score médio\n",
    "ax.axhline(y=s.mean(), color='black', linewidth=0.5)\n",
    "\n",
    "# Mostra o gráfico\n",
    "plt.show()\n",
    "\n",
    "\n",
    "\n",
    "\n",
    "\n"
   ]
  },
  {
   "cell_type": "code",
   "execution_count": null,
   "id": "9e1230fd-24d2-403c-9f11-5951c3e42164",
   "metadata": {
    "tags": []
   },
   "outputs": [],
   "source": [
    "# Cada tentativa é uma tupla de:\n",
    "# (algoritmo, nº de amostras, nº de features, score médio de CV, hiperparâmetros,\n",
    "#  todos os scores de CV, tempo total de CV (s), uso de memória (GB))\n",
    "\n",
    "trials = est1.adaptive_sampling_trials_  # Obtém as tentativas de amostragem adaptativa realizadas pelo AutoML\n",
    "\n",
    "# Extrai os scores médios de validação cruzada (posição 3 da tupla)\n",
    "scores = [x[3] for x in trials]\n",
    "\n",
    "# Extrai o número de amostras usadas em cada tentativa (posição 1 da tupla)\n",
    "n_samples = [x[1] for x in trials]\n",
    "\n",
    "# Define uma margem para o eixo Y com base na diferença entre o maior e o menor score\n",
    "y_margin = 0.10 * (max(scores) - min(scores))\n",
    "\n",
    "# Cria a figura e o eixo para o gráfico\n",
    "fig, ax = plt.subplots(1)\n",
    "\n",
    "# Define o título do gráfico com o nome do algoritmo testado (posição 0 da primeira tupla)\n",
    "ax.set_title(\"Adaptive Sampling ({})\".format(trials[0][0]))\n",
    "\n",
    "# Define o rótulo do eixo X como o tamanho da amostra usada no dataset\n",
    "ax.set_xlabel('Dataset sample size')\n",
    "\n",
    "# Define o rótulo do eixo Y com a métrica usada no score (ex: Acurácia, F1, etc.)\n",
    "ax.set_ylabel(est1.inferred_score_metric_)\n",
    "\n",
    "# Adiciona grade ao gráfico para melhor visualização\n",
    "ax.grid(color='g', linestyle='--', linewidth=0.1)\n",
    "\n",
    "# Define os limites do eixo Y com a margem definida\n",
    "ax.set_ylim(min(scores) - y_margin, max(scores) + y_margin)\n",
    "\n",
    "# Plota os pontos com marcador quadrado (\"s\"), cor teal, e tamanho 3\n",
    "ax.plot(n_samples, scores, 'k-', marker='s', color='teal', markersize=3)\n",
    "\n",
    "# Exibe o gráfico\n",
    "plt.show()\n"
   ]
  }
 ],
 "metadata": {
  "kernelspec": {
   "display_name": "automlx-env",
   "language": "python",
   "name": "python3"
  },
  "language_info": {
   "codemirror_mode": {
    "name": "ipython",
    "version": 3
   },
   "file_extension": ".py",
   "mimetype": "text/x-python",
   "name": "python",
   "nbconvert_exporter": "python",
   "pygments_lexer": "ipython3",
   "version": "3.10.18"
  }
 },
 "nbformat": 4,
 "nbformat_minor": 5
}
