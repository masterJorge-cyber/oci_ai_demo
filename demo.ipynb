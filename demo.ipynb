{
 "cells": [
  {
   "cell_type": "markdown",
   "id": "dd428e60-b2a4-4a85-b5dd-916ff3f06054",
   "metadata": {
    "tags": []
   },
   "source": [
    "### OCI Data Science - Useful Tips"
   ]
  },
  {
   "cell_type": "markdown",
   "id": "bf9a4d15-6aa2-48f9-82a3-fd68addfeb30",
   "metadata": {
    "jp-MarkdownHeadingCollapsed": true,
    "tags": []
   },
   "source": [
    "<details>\n",
    "<summary><font size=\"2\">Check for Public Internet Access</font></summary>\n",
    "\n",
    "```python\n",
    "import requests\n",
    "response = requests.get(\"https://oracle.com\")_\n",
    "assert response.status_code==200, \"Internet connection failed\"\n",
    "```\n",
    "</details>\n",
    "<details>\n",
    "<summary><font size=\"2\">Helpful Documentation </font></summary>\n",
    "<ul><li><a href=\"https://docs.cloud.oracle.com/en-us/iaas/data-science/using/data-science.htm\">Data Science Service Documentation</a></li>\n",
    "<li><a href=\"https://docs.cloud.oracle.com/iaas/tools/ads-sdk/latest/index.html\">ADS documentation</a></li>\n",
    "</ul>\n",
    "</details>\n",
    "<details>\n",
    "<summary><font size=\"2\">Typical Cell Imports and Settings for ADS</font></summary>\n",
    "\n",
    "```python\n",
    "%load_ext autoreload\n",
    "%autoreload 2\n",
    "%matplotlib inline\n",
    "\n",
    "import warnings\n",
    "warnings.filterwarnings('ignore')\n",
    "\n",
    "import logging\n",
    "logging.basicConfig(format='%(levelname)s:%(message)s', level=logging.ERROR)\n",
    "\n",
    "import ads\n",
    "from ads.dataset.factory import DatasetFactory\n",
    "from ads.automl.provider import OracleAutoMLProvider\n",
    "from ads.automl.driver import AutoML\n",
    "from ads.evaluations.evaluator import ADSEvaluator\n",
    "from ads.common.data import ADSData\n",
    "from ads.explanations.explainer import ADSExplainer\n",
    "from ads.explanations.mlx_global_explainer import MLXGlobalExplainer\n",
    "from ads.explanations.mlx_local_explainer import MLXLocalExplainer\n",
    "from ads.catalog.model import ModelCatalog\n",
    "from ads.common.model_artifact import ModelArtifact\n",
    "```\n",
    "</details>\n",
    "<details>\n",
    "<summary><font size=\"2\">Useful Environment Variables</font></summary>\n",
    "\n",
    "```python\n",
    "import os\n",
    "print(os.environ[\"NB_SESSION_COMPARTMENT_OCID\"])\n",
    "print(os.environ[\"PROJECT_OCID\"])\n",
    "print(os.environ[\"USER_OCID\"])\n",
    "print(os.environ[\"TENANCY_OCID\"])\n",
    "print(os.environ[\"NB_REGION\"])\n",
    "```\n",
    "</details>"
   ]
  },
  {
   "cell_type": "markdown",
   "id": "f5764292-5e63-42cb-8761-128e79f6d7d8",
   "metadata": {},
   "source": [
    "# Title"
   ]
  },
  {
   "cell_type": "code",
   "execution_count": 1,
   "id": "6226ff15-825e-446a-91e5-3eaad2bb5f25",
   "metadata": {
    "tags": []
   },
   "outputs": [
    {
     "name": "stdout",
     "output_type": "stream",
     "text": [
      "Hello, World!\n"
     ]
    }
   ],
   "source": [
    "print(\"Hello, World!\")"
   ]
  },
  {
   "cell_type": "markdown",
   "id": "45c8667b-2570-46e7-b8e5-ec61d3dad006",
   "metadata": {},
   "source": [
    "### TESTE INTERNET"
   ]
  },
  {
   "cell_type": "code",
   "execution_count": null,
   "id": "cc826fa1-d984-433e-96f9-4f60f80ba70f",
   "metadata": {
    "tags": []
   },
   "outputs": [],
   "source": [
    "import requests"
   ]
  },
  {
   "cell_type": "code",
   "execution_count": null,
   "id": "67846d23-38eb-4050-878e-fd49f9e463d8",
   "metadata": {
    "tags": []
   },
   "outputs": [],
   "source": [
    "response = requests.get(\"https://oracle.com\")\n",
    "\n",
    "# Verifica se a resposta foi bem-sucedida\n",
    "if response.status_code == 200:\n",
    "    print(\"✅ Conexão bem-sucedida!\")\n",
    "    print(\"🔍 Conteúdo da resposta:\")\n",
    "    print(response.text)  # Imprime o HTML da página\n",
    "else:\n",
    "    print(f\"❌ Falha na conexão. Código de status: {response.status_code}\")"
   ]
  },
  {
   "cell_type": "markdown",
   "id": "7c0cba0a-60fe-4db3-9425-eb4fe5b8a9b5",
   "metadata": {
    "tags": []
   },
   "source": [
    "import pandas as pd\n",
    "print(pd.__version__)\n"
   ]
  },
  {
   "cell_type": "markdown",
   "id": "beaaac47-b99d-4330-9845-206652963e09",
   "metadata": {},
   "source": [
    "## 🔍 Listando projetos de Ciência de Dados na Oracle Cloud com ADS SDK\n",
    "\n",
    "Este trecho de código utiliza o Accelerated Data Science (ADS) SDK para se autenticar com *resource principal* e acessar todos os projetos de ciência de dados disponíveis no compartimento atual da sessão do notebook. O resultado é exibido como um DataFrame com informações como nome, descrição, data de criação e tags.\n",
    "\n",
    "As etapas incluem:\n",
    "- Importar bibliotecas necessárias (`ads`, `os`, `ProjectCatalog`)\n",
    "- Configurar a autenticação\n",
    "- Obter o OCID do compartimento\n",
    "- Listar os projetos disponíveis e exibir os dados"
   ]
  },
  {
   "cell_type": "code",
   "execution_count": 14,
   "id": "cb2a1378-8da2-4e9f-832a-6f1a0db0f181",
   "metadata": {},
   "outputs": [
    {
     "data": {
      "text/html": [
       "<div>\n",
       "<style scoped>\n",
       "    .dataframe tbody tr th:only-of-type {\n",
       "        vertical-align: middle;\n",
       "    }\n",
       "\n",
       "    .dataframe tbody tr th {\n",
       "        vertical-align: top;\n",
       "    }\n",
       "\n",
       "    .dataframe thead th {\n",
       "        text-align: right;\n",
       "    }\n",
       "</style>\n",
       "<table border=\"1\" class=\"dataframe\">\n",
       "  <thead>\n",
       "    <tr style=\"text-align: right;\">\n",
       "      <th></th>\n",
       "      <th>display_name</th>\n",
       "      <th>description</th>\n",
       "      <th>time_created</th>\n",
       "      <th>lifecycle_state</th>\n",
       "      <th>user_name</th>\n",
       "      <th>compartment_id</th>\n",
       "      <th>freeform_tags</th>\n",
       "      <th>defined_tags</th>\n",
       "      <th>system_tags</th>\n",
       "    </tr>\n",
       "    <tr>\n",
       "      <th>id</th>\n",
       "      <th></th>\n",
       "      <th></th>\n",
       "      <th></th>\n",
       "      <th></th>\n",
       "      <th></th>\n",
       "      <th></th>\n",
       "      <th></th>\n",
       "      <th></th>\n",
       "      <th></th>\n",
       "    </tr>\n",
       "  </thead>\n",
       "  <tbody>\n",
       "    <tr>\n",
       "      <th>ggygga</th>\n",
       "      <td>An data science project</td>\n",
       "      <td>An data science project description</td>\n",
       "      <td>2025-07-10 22:23:51</td>\n",
       "      <td>ACTIVE</td>\n",
       "      <td></td>\n",
       "      <td>...4if46a</td>\n",
       "      <td>{'demods': 'ds'}</td>\n",
       "      <td>{'Oracle-Tags': {'CreatedBy': 'default/jorge.j...</td>\n",
       "      <td>{}</td>\n",
       "    </tr>\n",
       "  </tbody>\n",
       "</table>\n",
       "</div>"
      ],
      "text/plain": [
       "                   display_name                          description  \\\n",
       "id                                                                     \n",
       "ggygga  An data science project  An data science project description   \n",
       "\n",
       "               time_created lifecycle_state user_name compartment_id  \\\n",
       "id                                                                     \n",
       "ggygga  2025-07-10 22:23:51          ACTIVE                ...4if46a   \n",
       "\n",
       "           freeform_tags                                       defined_tags  \\\n",
       "id                                                                            \n",
       "ggygga  {'demods': 'ds'}  {'Oracle-Tags': {'CreatedBy': 'default/jorge.j...   \n",
       "\n",
       "       system_tags  \n",
       "id                  \n",
       "ggygga          {}  "
      ]
     },
     "metadata": {},
     "output_type": "display_data"
    }
   ],
   "source": [
    "import ads\n",
    "from ads.catalog.project import ProjectCatalog\n",
    "import os\n",
    "\n",
    "projects = pc.list_projects()\n",
    "display(projects.df)  # ou\n",
    "print(projects.df)"
   ]
  }
 ],
 "metadata": {
  "kernelspec": {
   "display_name": "ml_env",
   "language": "python",
   "name": "python3"
  },
  "language_info": {
   "codemirror_mode": {
    "name": "ipython",
    "version": 3
   },
   "file_extension": ".py",
   "mimetype": "text/x-python",
   "name": "python",
   "nbconvert_exporter": "python",
   "pygments_lexer": "ipython3",
   "version": "3.9.23"
  }
 },
 "nbformat": 4,
 "nbformat_minor": 5
}
