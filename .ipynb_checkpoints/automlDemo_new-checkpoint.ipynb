{
 "cells": [
  {
   "cell_type": "markdown",
   "id": "dd400dac-2ddd-4c6e-bd80-031e337df7b5",
   "metadata": {
    "jupyter": {
     "source_hidden": true
    },
    "tags": []
   },
   "source": [
    "### OCI Data Science - Useful Tips\n",
    "<details>\n",
    "<summary><font size=\"2\">Check for Public Internet Access</font></summary>\n",
    "\n",
    "```python\n",
    "import requests\n",
    "response = requests.get(\"https://oracle.com\")\n",
    "assert response.status_code==200, \"Internet connection failed\"\n",
    "```\n",
    "</details>\n",
    "<details>\n",
    "<summary><font size=\"2\">Helpful Documentation </font></summary>\n",
    "<ul><li><a href=\"https://docs.cloud.oracle.com/en-us/iaas/data-science/using/data-science.htm\">Data Science Service Documentation</a></li>\n",
    "<li><a href=\"https://docs.cloud.oracle.com/iaas/tools/ads-sdk/latest/index.html\">ADS documentation</a></li>\n",
    "</ul>\n",
    "</details>\n",
    "<details>\n",
    "<summary><font size=\"2\">Typical Cell Imports and Settings for ADS</font></summary>\n",
    "\n",
    "```python\n",
    "%load_ext autoreload\n",
    "%autoreload 2\n",
    "%matplotlib inline\n",
    "\n",
    "import warnings\n",
    "warnings.filterwarnings('ignore')\n",
    "\n",
    "import logging\n",
    "logging.basicConfig(format='%(levelname)s:%(message)s', level=logging.ERROR)\n",
    "\n",
    "import ads\n",
    "from ads.dataset.factory import DatasetFactory\n",
    "from ads.automl.provider import OracleAutoMLProvider\n",
    "from ads.automl.driver import AutoML\n",
    "from ads.evaluations.evaluator import ADSEvaluator\n",
    "from ads.common.data import ADSData\n",
    "from ads.explanations.explainer import ADSExplainer\n",
    "from ads.explanations.mlx_global_explainer import MLXGlobalExplainer\n",
    "from ads.explanations.mlx_local_explainer import MLXLocalExplainer\n",
    "from ads.catalog.model import ModelCatalog\n",
    "from ads.common.model_artifact import ModelArtifact\n",
    "```\n",
    "</details>\n",
    "<details>\n",
    "<summary><font size=\"2\">Useful Environment Variables</font></summary>\n",
    "\n",
    "```python\n",
    "import os\n",
    "print(os.environ[\"NB_SESSION_COMPARTMENT_OCID\"])\n",
    "print(os.environ[\"PROJECT_OCID\"])\n",
    "print(os.environ[\"USER_OCID\"])\n",
    "print(os.environ[\"TENANCY_OCID\"])\n",
    "print(os.environ[\"NB_REGION\"])\n",
    "```\n",
    "</details>"
   ]
  },
  {
   "cell_type": "code",
   "execution_count": 7,
   "id": "7a22080a-52df-42fa-bd18-02903967596d",
   "metadata": {
    "tags": []
   },
   "outputs": [
    {
     "name": "stdout",
     "output_type": "stream",
     "text": [
      "The autoreload extension is already loaded. To reload it, use:\n",
      "  %reload_ext autoreload\n"
     ]
    }
   ],
   "source": [
    "%matplotlib inline\n",
    "%load_ext autoreload\n",
    "%autoreload 2\n"
   ]
  },
  {
   "cell_type": "code",
   "execution_count": 8,
   "id": "c6039536-14cc-4ae8-8e24-63e424bf9b3a",
   "metadata": {
    "tags": []
   },
   "outputs": [],
   "source": [
    "import gzip  # Trabalha com arquivos comprimidos no formato .gz (gzip)\n",
    "import pandas as pd  # Manipulação de dados em formato de tabela (DataFrame)\n",
    "import numpy as np  # Operações matemáticas e estruturas de arrays eficientes\n",
    "import matplotlib.pyplot as plt  # Criação de gráficos básicos e visualizações\n",
    "import seaborn as sns  # Gráficos estatísticos com estilo mais bonito (baseado no matplotlib)\n",
    "from sklearn.metrics import (\n",
    "    roc_auc_score,        # Métrica AUC para avaliação de classificadores\n",
    "    confusion_matrix,     # Matriz de confusão para avaliação de modelos\n",
    "    make_scorer,          # Criação de métricas personalizadas\n",
    "    f1_score              # Métrica F1 que combina precisão e recall\n",
    ")\n",
    "from sklearn.linear_model import LogisticRegression  # Algoritmo de regressão logística (classificação binária)\n",
    "from sklearn.compose import make_column_selector as selector  # Seleciona colunas com base em tipo ou nomes\n",
    "from sklearn.impute import SimpleImputer  # Preenchimento de valores ausentes (missing data)\n",
    "from sklearn.preprocessing import StandardScaler, OneHotEncoder  # Padronização de dados e codificação categórica\n",
    "from sklearn.compose import ColumnTransformer  # Aplica transformações diferentes em colunas distintas\n",
    "from sklearn.pipeline import Pipeline  # Cria sequência ordenada de etapas (pipeline de modelagem)\n",
    "from sklearn.datasets import fetch_openml  # Baixa datasets públicos do OpenML direto pro seu notebook\n",
    "from sklearn.model_selection import train_test_split  # Divide os dados entre treino e teste\n",
    "\n",
    "#Settings for plots\n",
    "plt.rcParams['figure.figsize'] = [10, 7]  # Define o tamanho padrão dos gráficos como 10x7 polegadas\n",
    "plt.rcParams['font.size'] = 15            # Define o tamanho padrão da fonte nos gráficos matplotlib\n",
    "sns.set(color_codes=True)                 # Ativa uso de códigos de cor (ex: 'b' para azul) no Seaborn\n",
    "sns.set(font_scale=1.5)                   # Aumenta a escala do tamanho da fonte nos gráficos do Seaborn\n",
    "sns.set_palette(\"bright\")                 # Define paleta de cores vibrantes para os gráficos do Seaborn\n",
    "sns.set_style(\"whitegrid\")                # Aplica estilo com fundo branco e linhas de grade (ideal pra visualização)"
   ]
  },
  {
   "cell_type": "code",
   "execution_count": 9,
   "id": "27e3851f-f195-449e-9b49-02f33e7cec4f",
   "metadata": {
    "tags": []
   },
   "outputs": [],
   "source": [
    "from tqdm import tqdm # Barra de progresso para loops (tqdm é uma biblioteca que facilita a visualização do progresso de loops longos)\n",
    "\n"
   ]
  },
  {
   "cell_type": "code",
   "execution_count": 10,
   "id": "c4bec799-0d81-465b-b042-7c3a3dc0b2a8",
   "metadata": {
    "tags": []
   },
   "outputs": [
    {
     "name": "stderr",
     "output_type": "stream",
     "text": [
      "/home/datascience/conda/automlx_p38_cpu_v2/lib/python3.8/site-packages/sklearn/datasets/_openml.py:292: UserWarning: Multiple active versions of the dataset matching the name adult exist. Versions may be fundamentally different, returning version 1.\n",
      "  warn(\n"
     ]
    }
   ],
   "source": [
    "\n",
    "\n",
    "dataset = fetch_openml(name = 'adult', as_frame =True)\n",
    "df, y = dataset.data, dataset.target"
   ]
  },
  {
   "cell_type": "code",
   "execution_count": 11,
   "id": "608f73e4-3d1e-4675-92fa-8778386bf24e",
   "metadata": {
    "tags": []
   },
   "outputs": [
    {
     "data": {
      "text/html": [
       "<div>\n",
       "<style scoped>\n",
       "    .dataframe tbody tr th:only-of-type {\n",
       "        vertical-align: middle;\n",
       "    }\n",
       "\n",
       "    .dataframe tbody tr th {\n",
       "        vertical-align: top;\n",
       "    }\n",
       "\n",
       "    .dataframe thead th {\n",
       "        text-align: right;\n",
       "    }\n",
       "</style>\n",
       "<table border=\"1\" class=\"dataframe\">\n",
       "  <thead>\n",
       "    <tr style=\"text-align: right;\">\n",
       "      <th></th>\n",
       "      <th>age</th>\n",
       "      <th>workclass</th>\n",
       "      <th>fnlwgt</th>\n",
       "      <th>education</th>\n",
       "      <th>education-num</th>\n",
       "      <th>marital-status</th>\n",
       "      <th>occupation</th>\n",
       "      <th>relationship</th>\n",
       "      <th>race</th>\n",
       "      <th>sex</th>\n",
       "      <th>capitalgain</th>\n",
       "      <th>capitalloss</th>\n",
       "      <th>hoursperweek</th>\n",
       "      <th>native-country</th>\n",
       "    </tr>\n",
       "  </thead>\n",
       "  <tbody>\n",
       "    <tr>\n",
       "      <th>0</th>\n",
       "      <td>2</td>\n",
       "      <td>State-gov</td>\n",
       "      <td>77516.0</td>\n",
       "      <td>Bachelors</td>\n",
       "      <td>13.0</td>\n",
       "      <td>Never-married</td>\n",
       "      <td>Adm-clerical</td>\n",
       "      <td>Not-in-family</td>\n",
       "      <td>White</td>\n",
       "      <td>Male</td>\n",
       "      <td>1</td>\n",
       "      <td>0</td>\n",
       "      <td>2</td>\n",
       "      <td>United-States</td>\n",
       "    </tr>\n",
       "    <tr>\n",
       "      <th>1</th>\n",
       "      <td>3</td>\n",
       "      <td>Self-emp-not-inc</td>\n",
       "      <td>83311.0</td>\n",
       "      <td>Bachelors</td>\n",
       "      <td>13.0</td>\n",
       "      <td>Married-civ-spouse</td>\n",
       "      <td>Exec-managerial</td>\n",
       "      <td>Husband</td>\n",
       "      <td>White</td>\n",
       "      <td>Male</td>\n",
       "      <td>0</td>\n",
       "      <td>0</td>\n",
       "      <td>0</td>\n",
       "      <td>United-States</td>\n",
       "    </tr>\n",
       "    <tr>\n",
       "      <th>2</th>\n",
       "      <td>2</td>\n",
       "      <td>Private</td>\n",
       "      <td>215646.0</td>\n",
       "      <td>HS-grad</td>\n",
       "      <td>9.0</td>\n",
       "      <td>Divorced</td>\n",
       "      <td>Handlers-cleaners</td>\n",
       "      <td>Not-in-family</td>\n",
       "      <td>White</td>\n",
       "      <td>Male</td>\n",
       "      <td>0</td>\n",
       "      <td>0</td>\n",
       "      <td>2</td>\n",
       "      <td>United-States</td>\n",
       "    </tr>\n",
       "    <tr>\n",
       "      <th>3</th>\n",
       "      <td>3</td>\n",
       "      <td>Private</td>\n",
       "      <td>234721.0</td>\n",
       "      <td>11th</td>\n",
       "      <td>7.0</td>\n",
       "      <td>Married-civ-spouse</td>\n",
       "      <td>Handlers-cleaners</td>\n",
       "      <td>Husband</td>\n",
       "      <td>Black</td>\n",
       "      <td>Male</td>\n",
       "      <td>0</td>\n",
       "      <td>0</td>\n",
       "      <td>2</td>\n",
       "      <td>United-States</td>\n",
       "    </tr>\n",
       "    <tr>\n",
       "      <th>4</th>\n",
       "      <td>1</td>\n",
       "      <td>Private</td>\n",
       "      <td>338409.0</td>\n",
       "      <td>Bachelors</td>\n",
       "      <td>13.0</td>\n",
       "      <td>Married-civ-spouse</td>\n",
       "      <td>Prof-specialty</td>\n",
       "      <td>Wife</td>\n",
       "      <td>Black</td>\n",
       "      <td>Female</td>\n",
       "      <td>0</td>\n",
       "      <td>0</td>\n",
       "      <td>2</td>\n",
       "      <td>Cuba</td>\n",
       "    </tr>\n",
       "  </tbody>\n",
       "</table>\n",
       "</div>"
      ],
      "text/plain": [
       "  age         workclass    fnlwgt  education  education-num  \\\n",
       "0   2         State-gov   77516.0  Bachelors           13.0   \n",
       "1   3  Self-emp-not-inc   83311.0  Bachelors           13.0   \n",
       "2   2           Private  215646.0    HS-grad            9.0   \n",
       "3   3           Private  234721.0       11th            7.0   \n",
       "4   1           Private  338409.0  Bachelors           13.0   \n",
       "\n",
       "       marital-status         occupation   relationship   race     sex  \\\n",
       "0       Never-married       Adm-clerical  Not-in-family  White    Male   \n",
       "1  Married-civ-spouse    Exec-managerial        Husband  White    Male   \n",
       "2            Divorced  Handlers-cleaners  Not-in-family  White    Male   \n",
       "3  Married-civ-spouse  Handlers-cleaners        Husband  Black    Male   \n",
       "4  Married-civ-spouse     Prof-specialty           Wife  Black  Female   \n",
       "\n",
       "  capitalgain capitalloss hoursperweek native-country  \n",
       "0           1           0            2  United-States  \n",
       "1           0           0            0  United-States  \n",
       "2           0           0            2  United-States  \n",
       "3           0           0            2  United-States  \n",
       "4           0           0            2           Cuba  "
      ]
     },
     "execution_count": 11,
     "metadata": {},
     "output_type": "execute_result"
    }
   ],
   "source": [
    "df.head()"
   ]
  },
  {
   "cell_type": "code",
   "execution_count": 12,
   "id": "b531059c",
   "metadata": {
    "tags": []
   },
   "outputs": [
    {
     "name": "stdout",
     "output_type": "stream",
     "text": [
      "\n",
      "Class type: <=50K - >50K\n",
      "DataSet has 48842 rows and 15 columns\n",
      "\n",
      "Class <=50K has 0 rows\n",
      "\n",
      "Class >50K has 0 rows\n"
     ]
    }
   ],
   "source": [
    "\n",
    "class_type = y.unique();\n",
    "print(f\"\\nClass type: {class_type[0]} - {class_type[1]}\")\n",
    "\n",
    "df[y.name] = y.astype('category').cat.codes  # Converte a variável alvo para o tipo categórico\n",
    "\n",
    "r = len(df)\n",
    "\n",
    "print(f\"DataSet has {r} rows and {df.shape[1]} columns\")\n",
    "\n",
    "for r in y.unique():\n",
    "    print(f\"\\nClass {r} has {len(df[df[y.name] == r])} rows\")\n",
    "\n"
   ]
  },
  {
   "cell_type": "code",
   "execution_count": 14,
   "id": "87bf24f8",
   "metadata": {
    "tags": []
   },
   "outputs": [
    {
     "data": {
      "text/html": [
       "<div>\n",
       "<style scoped>\n",
       "    .dataframe tbody tr th:only-of-type {\n",
       "        vertical-align: middle;\n",
       "    }\n",
       "\n",
       "    .dataframe tbody tr th {\n",
       "        vertical-align: top;\n",
       "    }\n",
       "\n",
       "    .dataframe thead th {\n",
       "        text-align: right;\n",
       "    }\n",
       "</style>\n",
       "<table border=\"1\" class=\"dataframe\">\n",
       "  <thead>\n",
       "    <tr style=\"text-align: right;\">\n",
       "      <th></th>\n",
       "      <th>age</th>\n",
       "      <th>workclass</th>\n",
       "      <th>fnlwgt</th>\n",
       "      <th>education</th>\n",
       "      <th>education-num</th>\n",
       "      <th>marital-status</th>\n",
       "      <th>occupation</th>\n",
       "      <th>relationship</th>\n",
       "      <th>race</th>\n",
       "      <th>sex</th>\n",
       "      <th>capitalgain</th>\n",
       "      <th>capitalloss</th>\n",
       "      <th>hoursperweek</th>\n",
       "      <th>native-country</th>\n",
       "      <th>class</th>\n",
       "    </tr>\n",
       "  </thead>\n",
       "  <tbody>\n",
       "    <tr>\n",
       "      <th>Data types</th>\n",
       "      <td>category</td>\n",
       "      <td>category</td>\n",
       "      <td>float64</td>\n",
       "      <td>category</td>\n",
       "      <td>float64</td>\n",
       "      <td>category</td>\n",
       "      <td>category</td>\n",
       "      <td>category</td>\n",
       "      <td>category</td>\n",
       "      <td>category</td>\n",
       "      <td>category</td>\n",
       "      <td>category</td>\n",
       "      <td>category</td>\n",
       "      <td>category</td>\n",
       "      <td>int8</td>\n",
       "    </tr>\n",
       "  </tbody>\n",
       "</table>\n",
       "</div>"
      ],
      "text/plain": [
       "                 age workclass   fnlwgt education education-num  \\\n",
       "Data types  category  category  float64  category       float64   \n",
       "\n",
       "           marital-status occupation relationship      race       sex  \\\n",
       "Data types       category   category     category  category  category   \n",
       "\n",
       "           capitalgain capitalloss hoursperweek native-country class  \n",
       "Data types    category    category     category       category  int8  "
      ]
     },
     "execution_count": 14,
     "metadata": {},
     "output_type": "execute_result"
    }
   ],
   "source": [
    "pd.DataFrame({'Data types': df.dtypes}).T"
   ]
  },
  {
   "cell_type": "code",
   "execution_count": 15,
   "id": "6fdc0cf4",
   "metadata": {
    "tags": []
   },
   "outputs": [
    {
     "data": {
      "text/html": [
       "<div>\n",
       "<style scoped>\n",
       "    .dataframe tbody tr th:only-of-type {\n",
       "        vertical-align: middle;\n",
       "    }\n",
       "\n",
       "    .dataframe tbody tr th {\n",
       "        vertical-align: top;\n",
       "    }\n",
       "\n",
       "    .dataframe thead th {\n",
       "        text-align: right;\n",
       "    }\n",
       "</style>\n",
       "<table border=\"1\" class=\"dataframe\">\n",
       "  <thead>\n",
       "    <tr style=\"text-align: right;\">\n",
       "      <th></th>\n",
       "      <th>age</th>\n",
       "      <th>workclass</th>\n",
       "      <th>fnlwgt</th>\n",
       "      <th>education</th>\n",
       "      <th>education-num</th>\n",
       "      <th>marital-status</th>\n",
       "      <th>occupation</th>\n",
       "      <th>relationship</th>\n",
       "      <th>race</th>\n",
       "      <th>sex</th>\n",
       "      <th>capitalgain</th>\n",
       "      <th>capitalloss</th>\n",
       "      <th>hoursperweek</th>\n",
       "      <th>native-country</th>\n",
       "      <th>class</th>\n",
       "    </tr>\n",
       "  </thead>\n",
       "  <tbody>\n",
       "    <tr>\n",
       "      <th>Missing values</th>\n",
       "      <td>0.0</td>\n",
       "      <td>5.730724</td>\n",
       "      <td>0.0</td>\n",
       "      <td>0.0</td>\n",
       "      <td>0.0</td>\n",
       "      <td>0.0</td>\n",
       "      <td>5.751198</td>\n",
       "      <td>0.0</td>\n",
       "      <td>0.0</td>\n",
       "      <td>0.0</td>\n",
       "      <td>0.0</td>\n",
       "      <td>0.0</td>\n",
       "      <td>0.0</td>\n",
       "      <td>1.754637</td>\n",
       "      <td>0.0</td>\n",
       "    </tr>\n",
       "  </tbody>\n",
       "</table>\n",
       "</div>"
      ],
      "text/plain": [
       "                age  workclass  fnlwgt  education  education-num  \\\n",
       "Missing values  0.0   5.730724     0.0        0.0            0.0   \n",
       "\n",
       "                marital-status  occupation  relationship  race  sex  \\\n",
       "Missing values             0.0    5.751198           0.0   0.0  0.0   \n",
       "\n",
       "                capitalgain  capitalloss  hoursperweek  native-country  class  \n",
       "Missing values          0.0          0.0           0.0        1.754637    0.0  "
      ]
     },
     "execution_count": 15,
     "metadata": {},
     "output_type": "execute_result"
    }
   ],
   "source": [
    "pd.DataFrame({'Missing values': df.isnull().sum() * 100/ len(df)}).T"
   ]
  },
  {
   "cell_type": "code",
   "execution_count": 13,
   "id": "2ce4bf68",
   "metadata": {
    "tags": []
   },
   "outputs": [
    {
     "data": {
      "image/png": "[encoded data removed]",
      "text/plain": [
       "<Figure size 1000x700 with 1 Axes>"
      ]
     },
     "metadata": {},
     "output_type": "display_data"
    }
   ],
   "source": [
    "y_df = pd.DataFrame(y);\n",
    "y_df.columns = ['income']  # Renomeia a coluna do DataFrame de y para o nome original\n",
    "\n",
    "ax = sns.countplot(x='income', data=y_df) # Plota a contagem de cada classe na variável alvo 'income'\n",
    "ax.bar_label(ax.containers[0])  # Adiciona rótulos de contagem em cima de cada barra do gráfico\n",
    "\n",
    "plt.title('Contagem de cada classe em income')  # Define o título do gráfico\n",
    "plt.xlabel('Classe')\n",
    "plt.ylabel('Quantidade')\n",
    "plt.show()"
   ]
  },
  {
   "cell_type": "code",
   "execution_count": 16,
   "id": "a955ec2c",
   "metadata": {
    "tags": []
   },
   "outputs": [
    {
     "data": {
      "text/plain": [
       "((34189, 15), (14653, 15))"
      ]
     },
     "execution_count": 16,
     "metadata": {},
     "output_type": "execute_result"
    }
   ],
   "source": [
    "numeric_columns = ['age', 'capitalgain', 'capitalloss', 'hoursperweek']\n",
    "for col in df.columns:\n",
    "    if col in numeric_columns:\n",
    "        df[col] = df[col].astype('int')\n",
    "\n",
    "# Map y to binary and convert to int\n",
    "y_binary = y.map({'>50K': 1, '<=50K': 0}).astype(int)\n",
    "\n",
    "# Split the data\n",
    "X_train, X_test, y_train, y_test = train_test_split(df, y_binary, train_size=0.7, random_state=42)\n",
    "\n",
    "X_train.shape, X_test.shape  # Divide os dados em conjuntos de treino e teste, mapeando as classes para 1 e 0"
   ]
  },
  {
   "cell_type": "code",
   "execution_count": 18,
   "id": "309f6462",
   "metadata": {
    "tags": []
   },
   "outputs": [
    {
     "name": "stdout",
     "output_type": "stream",
     "text": [
      "[2025-08-03 02:18:15,733] [automl.xengine] Local ProcessPool execution (n_jobs=1)\n"
     ]
    }
   ],
   "source": [
    "import automl  # Importa o pacote completo 'automl', que pode conter métodos para AutoML (automatizar experimentos de machine learning)\n",
    "\n",
    "from automl import init  # Importa especificamente a função 'init' do pacote — geralmente usada para inicializar ou configurar o ambiente AutoML\n",
    "init(engine='local') # Inicializa o ambiente AutoML localmente"
   ]
  },
  {
   "cell_type": "code",
   "execution_count": 20,
   "id": "db7333c2",
   "metadata": {
    "tags": []
   },
   "outputs": [
    {
     "name": "stdout",
     "output_type": "stream",
     "text": [
      "[2025-08-03 02:18:20,767] [automl.pipeline] Random state (7) is used for model builds\n",
      "[2025-08-03 02:18:20,790] [automl.pipeline] Dataset shape: (34189, 15)\n",
      "[2025-08-03 02:18:20,799] [automl.pipeline] Running Auto-Preprocessing\n",
      "[2025-08-03 02:18:21,005] [automl.pipeline] Preprocessing completed. Updated Dataset shape: (34189, 16), cv: 5\n",
      "[2025-08-03 02:18:21,137] [automl.pipeline] SVC, KNeighborsClassifier are disabled for datasets with > 10K samples or > 1K features\n",
      "[2025-08-03 02:18:21,138] [automl.pipeline] Running Model Selection\n",
      "[2025-08-03 02:18:55,288] [automl.pipeline] Model Selection completed. Selected model: ['DecisionTreeClassifier']\n",
      "[2025-08-03 02:18:55,290] [automl.pipeline] Running Adaptive Sampling. Dataset Shape: (34189, 16), Valid Shape: None, CV: 5, Class counts: [26046  8143]\n",
      "[2025-08-03 02:18:56,346] [automl.pipeline] Adaptive Sampling Completed. Updated Dataset Shape: (34189, 16), Valid Shape: None, CV: [(6738, 6838), (6738, 6838), (6738, 6838), (6738, 6838), (6738, 6837)], Class counts: [26046  8143]\n",
      "[2025-08-03 02:18:56,347] [automl.pipeline] Starting Feature Selection 0. Dataset Shape: (34189, 16)\n",
      "[2025-08-03 02:19:00,395] [automl.pipeline] Feature Selection 0 completed. Updated Dataset shape: (34189, 1)\n",
      "[2025-08-03 02:19:00,402] [automl.pipeline] Tuning DecisionTreeClassifier\n",
      "[2025-08-03 02:19:02,300] [automl.tune] WARNING: No tasks queued but search ({'class_weight': True, 'max_features': False, 'min_samples_leaf': True, 'min_samples_split': True}) is not done.. quiting\n",
      "[2025-08-03 02:19:02,302] [automl.pipeline] Tuning completed. Best params: {'class_weight': 'balanced', 'max_features': 1.0, 'min_samples_leaf': 0.000625, 'min_samples_split': 0.00125}\n",
      "[2025-08-03 02:19:02,323] [automl.pipeline] (Re)fitting Pipeline\n",
      "[2025-08-03 02:19:02,519] [automl.xengine] Local ProcessPool execution (n_jobs=1)\n",
      "[2025-08-03 02:19:02,537] [automl.pipeline] AutoML completed. Time taken - 41.609 sec\n"
     ]
    },
    {
     "data": {
      "text/html": [
       "<style>#sk-container-id-1 {color: black;background-color: white;}#sk-container-id-1 pre{padding: 0;}#sk-container-id-1 div.sk-toggleable {background-color: white;}#sk-container-id-1 label.sk-toggleable__label {cursor: pointer;display: block;width: 100%;margin-bottom: 0;padding: 0.3em;box-sizing: border-box;text-align: center;}#sk-container-id-1 label.sk-toggleable__label-arrow:before {content: \"▸\";float: left;margin-right: 0.25em;color: #696969;}#sk-container-id-1 label.sk-toggleable__label-arrow:hover:before {color: black;}#sk-container-id-1 div.sk-estimator:hover label.sk-toggleable__label-arrow:before {color: black;}#sk-container-id-1 div.sk-toggleable__content {max-height: 0;max-width: 0;overflow: hidden;text-align: left;background-color: #f0f8ff;}#sk-container-id-1 div.sk-toggleable__content pre {margin: 0.2em;color: black;border-radius: 0.25em;background-color: #f0f8ff;}#sk-container-id-1 input.sk-toggleable__control:checked~div.sk-toggleable__content {max-height: 200px;max-width: 100%;overflow: auto;}#sk-container-id-1 input.sk-toggleable__control:checked~label.sk-toggleable__label-arrow:before {content: \"▾\";}#sk-container-id-1 div.sk-estimator input.sk-toggleable__control:checked~label.sk-toggleable__label {background-color: #d4ebff;}#sk-container-id-1 div.sk-label input.sk-toggleable__control:checked~label.sk-toggleable__label {background-color: #d4ebff;}#sk-container-id-1 input.sk-hidden--visually {border: 0;clip: rect(1px 1px 1px 1px);clip: rect(1px, 1px, 1px, 1px);height: 1px;margin: -1px;overflow: hidden;padding: 0;position: absolute;width: 1px;}#sk-container-id-1 div.sk-estimator {font-family: monospace;background-color: #f0f8ff;border: 1px dotted black;border-radius: 0.25em;box-sizing: border-box;margin-bottom: 0.5em;}#sk-container-id-1 div.sk-estimator:hover {background-color: #d4ebff;}#sk-container-id-1 div.sk-parallel-item::after {content: \"\";width: 100%;border-bottom: 1px solid gray;flex-grow: 1;}#sk-container-id-1 div.sk-label:hover label.sk-toggleable__label {background-color: #d4ebff;}#sk-container-id-1 div.sk-serial::before {content: \"\";position: absolute;border-left: 1px solid gray;box-sizing: border-box;top: 0;bottom: 0;left: 50%;z-index: 0;}#sk-container-id-1 div.sk-serial {display: flex;flex-direction: column;align-items: center;background-color: white;padding-right: 0.2em;padding-left: 0.2em;position: relative;}#sk-container-id-1 div.sk-item {position: relative;z-index: 1;}#sk-container-id-1 div.sk-parallel {display: flex;align-items: stretch;justify-content: center;background-color: white;position: relative;}#sk-container-id-1 div.sk-item::before, #sk-container-id-1 div.sk-parallel-item::before {content: \"\";position: absolute;border-left: 1px solid gray;box-sizing: border-box;top: 0;bottom: 0;left: 50%;z-index: -1;}#sk-container-id-1 div.sk-parallel-item {display: flex;flex-direction: column;z-index: 1;position: relative;background-color: white;}#sk-container-id-1 div.sk-parallel-item:first-child::after {align-self: flex-end;width: 50%;}#sk-container-id-1 div.sk-parallel-item:last-child::after {align-self: flex-start;width: 50%;}#sk-container-id-1 div.sk-parallel-item:only-child::after {width: 0;}#sk-container-id-1 div.sk-dashed-wrapped {border: 1px dashed gray;margin: 0 0.4em 0.5em 0.4em;box-sizing: border-box;padding-bottom: 0.4em;background-color: white;}#sk-container-id-1 div.sk-label label {font-family: monospace;font-weight: bold;display: inline-block;line-height: 1.2em;}#sk-container-id-1 div.sk-label-container {text-align: center;}#sk-container-id-1 div.sk-container {/* jupyter's `normalize.less` sets `[hidden] { display: none; }` but bootstrap.min.css set `[hidden] { display: none !important; }` so we also need the `!important` here to be able to override the default hidden behavior on the sphinx rendered scikit-learn.org. See: https://github.com/scikit-learn/scikit-learn/issues/21755 */display: inline-block !important;position: relative;}#sk-container-id-1 div.sk-text-repr-fallback {display: none;}</style><div id=\"sk-container-id-1\" class=\"sk-top-container\"><div class=\"sk-text-repr-fallback\"><pre>Pipeline(model_list=[&#x27;DecisionTreeClassifier&#x27;, &#x27;ExtraTreesClassifier&#x27;,\n",
       "                     &#x27;GaussianNB&#x27;, &#x27;LGBMClassifier&#x27;, &#x27;LogisticRegression&#x27;,\n",
       "                     &#x27;RandomForestClassifier&#x27;, &#x27;SVC&#x27;, &#x27;XGBClassifier&#x27;,\n",
       "                     &#x27;TorchMLPClassifier&#x27;, &#x27;CatBoostClassifier&#x27;])</pre><b>In a Jupyter environment, please rerun this cell to show the HTML representation or trust the notebook. <br />On GitHub, the HTML representation is unable to render, please try loading this page with nbviewer.org.</b></div><div class=\"sk-container\" hidden><div class=\"sk-item\"><div class=\"sk-estimator sk-toggleable\"><input class=\"sk-toggleable__control sk-hidden--visually\" id=\"sk-estimator-id-1\" type=\"checkbox\" checked><label for=\"sk-estimator-id-1\" class=\"sk-toggleable__label sk-toggleable__label-arrow\">Pipeline</label><div class=\"sk-toggleable__content\"><pre>Pipeline(model_list=[&#x27;DecisionTreeClassifier&#x27;, &#x27;ExtraTreesClassifier&#x27;,\n",
       "                     &#x27;GaussianNB&#x27;, &#x27;LGBMClassifier&#x27;, &#x27;LogisticRegression&#x27;,\n",
       "                     &#x27;RandomForestClassifier&#x27;, &#x27;SVC&#x27;, &#x27;XGBClassifier&#x27;,\n",
       "                     &#x27;TorchMLPClassifier&#x27;, &#x27;CatBoostClassifier&#x27;])</pre></div></div></div></div></div>"
      ],
      "text/plain": [
       "Pipeline(model_list=['DecisionTreeClassifier', 'ExtraTreesClassifier',\n",
       "                     'GaussianNB', 'LGBMClassifier', 'LogisticRegression',\n",
       "                     'RandomForestClassifier', 'SVC', 'XGBClassifier',\n",
       "                     'TorchMLPClassifier', 'CatBoostClassifier'])"
      ]
     },
     "execution_count": 20,
     "metadata": {},
     "output_type": "execute_result"
    }
   ],
   "source": [
    "est1 = automl.Pipeline(task = 'classification') # Cria um pipeline de automação de machine learning para classificação\n",
    "est1.fit(X_train, y_train)  # Treina o modelo com os dados de treino"
   ]
  },
  {
   "cell_type": "code",
   "execution_count": 27,
   "id": "c4e0fc23-92db-4c3c-9685-6a58966a91e4",
   "metadata": {
    "tags": []
   },
   "outputs": [
    {
     "name": "stdout",
     "output_type": "stream",
     "text": [
      "Score on test data: 1.0\n"
     ]
    }
   ],
   "source": [
    "y_proba = est1.predict_proba(X_test)\n",
    "score_default = roc_auc_score(y_test,y_proba[:,1])\n",
    "\n",
    "print(f'Score on test data: {score_default}')"
   ]
  },
  {
   "cell_type": "code",
   "execution_count": 21,
   "id": "65739f83-1b19-4ec1-ac69-bd1996476a53",
   "metadata": {
    "tags": []
   },
   "outputs": [
    {
     "data": {
      "text/html": [
       "<table border=\"1\" class=\"dataframe\">\n",
       "  <tbody>\n",
       "    <tr>\n",
       "      <td>Training Dataset size</td>\n",
       "      <td>(34189, 15)</td>\n",
       "    </tr>\n",
       "    <tr>\n",
       "      <td>Validation Dataset size</td>\n",
       "      <td>None</td>\n",
       "    </tr>\n",
       "    <tr>\n",
       "      <td>CV</td>\n",
       "      <td>5</td>\n",
       "    </tr>\n",
       "    <tr>\n",
       "      <td>Optimization Metric</td>\n",
       "      <td>neg_log_loss</td>\n",
       "    </tr>\n",
       "    <tr>\n",
       "      <td>Selected Features</td>\n",
       "      <td>Index(['class'], dtype='object')</td>\n",
       "    </tr>\n",
       "    <tr>\n",
       "      <td>Selected Algorithm</td>\n",
       "      <td>DecisionTreeClassifier</td>\n",
       "    </tr>\n",
       "    <tr>\n",
       "      <td>Time taken</td>\n",
       "      <td>41.5232</td>\n",
       "    </tr>\n",
       "    <tr>\n",
       "      <td>Selected Hyperparameters</td>\n",
       "      <td>{'ccp_alpha': 0.0, 'class_weight': 'balanced', 'criterion': 'gini', 'max_depth': None, 'max_features': 1.0, 'max_leaf_nodes': None, 'min_impurity_decrease': 0.0, 'min_samples_leaf': 0.000625, 'min_samples_split': 0.00125, 'min_weight_fraction_leaf': 0.0, 'random_state': 7, 'splitter': 'best'}</td>\n",
       "    </tr>\n",
       "    <tr>\n",
       "      <td>AutoML version</td>\n",
       "      <td>23.1.1</td>\n",
       "    </tr>\n",
       "    <tr>\n",
       "      <td>Python version</td>\n",
       "      <td>3.8.16 (default, Mar  2 2023, 03:21:46) \\n[GCC 11.2.0]</td>\n",
       "    </tr>\n",
       "  </tbody>\n",
       "</table>"
      ],
      "text/plain": [
       "<IPython.core.display.HTML object>"
      ]
     },
     "metadata": {},
     "output_type": "display_data"
    },
    {
     "data": {
      "text/html": [
       "<table border=\"1\" class=\"dataframe\">\n",
       "  <thead>\n",
       "    <tr style=\"text-align: right;\">\n",
       "      <th>Algorithm</th>\n",
       "      <th>#Samples</th>\n",
       "      <th>#Features</th>\n",
       "      <th>Mean Validation Score</th>\n",
       "      <th>Hyperparameters</th>\n",
       "      <th>CPU Time</th>\n",
       "      <th>Memory Usage (GB)</th>\n",
       "    </tr>\n",
       "  </thead>\n",
       "  <tbody>\n",
       "    <tr>\n",
       "      <td>DecisionTreeClassifier_AS</td>\n",
       "      <td>5000</td>\n",
       "      <td>16</td>\n",
       "      <td>-9.9920e-16</td>\n",
       "      <td>{'class_weight': None, 'max_features': 1.0, 'min_samples_leaf': 0.000625, 'min_samples_split': 0.00125}</td>\n",
       "      <td>0.0710</td>\n",
       "      <td>0.0</td>\n",
       "    </tr>\n",
       "    <tr>\n",
       "      <td>DecisionTreeClassifier_HT</td>\n",
       "      <td>34189</td>\n",
       "      <td>1</td>\n",
       "      <td>-9.9920e-16</td>\n",
       "      <td>{'class_weight': 'balanced', 'max_features': 1.0, 'min_samples_leaf': 0.000625, 'min_samples_split': 0.00125}</td>\n",
       "      <td>0.0556</td>\n",
       "      <td>(0.0, None)</td>\n",
       "    </tr>\n",
       "    <tr>\n",
       "      <td>DecisionTreeClassifier_HT</td>\n",
       "      <td>34189</td>\n",
       "      <td>1</td>\n",
       "      <td>-9.9920e-16</td>\n",
       "      <td>{'class_weight': None, 'max_features': 1.0, 'min_samples_leaf': 0.045492188842110606, 'min_samples_split': 0.00125}</td>\n",
       "      <td>0.0303</td>\n",
       "      <td>(0.0, None)</td>\n",
       "    </tr>\n",
       "    <tr>\n",
       "      <td>DecisionTreeClassifier_HT</td>\n",
       "      <td>34189</td>\n",
       "      <td>1</td>\n",
       "      <td>-9.9920e-16</td>\n",
       "      <td>{'class_weight': None, 'max_features': 1.0, 'min_samples_leaf': 0.04548718913460234, 'min_samples_split': 0.00125}</td>\n",
       "      <td>0.0315</td>\n",
       "      <td>(0.0, None)</td>\n",
       "    </tr>\n",
       "    <tr>\n",
       "      <td>DecisionTreeClassifier_HT</td>\n",
       "      <td>34189</td>\n",
       "      <td>1</td>\n",
       "      <td>-9.9920e-16</td>\n",
       "      <td>{'class_weight': None, 'max_features': 1.0, 'min_samples_leaf': 0.0006299997075082629, 'min_samples_split': 0.00125}</td>\n",
       "      <td>0.0273</td>\n",
       "      <td>(0.0, None)</td>\n",
       "    </tr>\n",
       "    <tr>\n",
       "      <td>...</td>\n",
       "      <td>...</td>\n",
       "      <td>...</td>\n",
       "      <td>...</td>\n",
       "      <td>...</td>\n",
       "      <td>...</td>\n",
       "      <td>...</td>\n",
       "    </tr>\n",
       "    <tr>\n",
       "      <td>CatBoostClassifier_AS</td>\n",
       "      <td>5000</td>\n",
       "      <td>16</td>\n",
       "      <td>-3.3947e-05</td>\n",
       "      <td>{'iterations': 235, 'learning_rate': 0.787168, 'l2_leaf_reg': 2.567326, 'feature_border_type': 'UniformAndQuantiles', 'model_size_reg': 3.85132, 'leaf_estimation_method': 'Newton', 'leaf_estimation_iterations': 1, 'colsample_bylevel': 0.096865, 'depth': 3, 'boosting_type': 'Plain', 'bootstrap_type': 'MVS', 'auto_class_weights': 'SqrtBalanced'}</td>\n",
       "      <td>1.0320</td>\n",
       "      <td>0.0</td>\n",
       "    </tr>\n",
       "    <tr>\n",
       "      <td>ExtraTreesClassifier_AS</td>\n",
       "      <td>5000</td>\n",
       "      <td>16</td>\n",
       "      <td>-4.7179e-05</td>\n",
       "      <td>{'n_estimators': 100, 'class_weight': 'balanced', 'criterion': 'gini', 'max_features': 0.777777778, 'min_samples_leaf': 0.000625, 'min_samples_split': 0.00125}</td>\n",
       "      <td>1.4646</td>\n",
       "      <td>0.0</td>\n",
       "    </tr>\n",
       "    <tr>\n",
       "      <td>LGBMClassifier_AS</td>\n",
       "      <td>5000</td>\n",
       "      <td>16</td>\n",
       "      <td>-1.1637e-04</td>\n",
       "      <td>{'boosting_type': 'gbdt', 'learning_rate': 0.1, 'max_depth': -1, 'min_child_weight': 0.001, 'n_estimators': 100, 'num_leaves': 31, 'reg_alpha': 0, 'reg_lambda': 1, 'class_weight': 'balanced'}</td>\n",
       "      <td>0.4894</td>\n",
       "      <td>0.0</td>\n",
       "    </tr>\n",
       "    <tr>\n",
       "      <td>XGBClassifier_AS</td>\n",
       "      <td>5000</td>\n",
       "      <td>16</td>\n",
       "      <td>-1.9554e-04</td>\n",
       "      <td>{'booster': 'gbtree', 'learning_rate': 0.1, 'max_depth': 3, 'min_child_weight': 1, 'n_estimators': 100, 'reg_alpha': 0, 'reg_lambda': 1}</td>\n",
       "      <td>1.6047</td>\n",
       "      <td>0.0</td>\n",
       "    </tr>\n",
       "    <tr>\n",
       "      <td>LogisticRegression_AS</td>\n",
       "      <td>5000</td>\n",
       "      <td>16</td>\n",
       "      <td>-6.1327e-04</td>\n",
       "      <td>{'C': 1.0, 'class_weight': 'balanced', 'solver': 'liblinear'}</td>\n",
       "      <td>0.1709</td>\n",
       "      <td>0.0</td>\n",
       "    </tr>\n",
       "  </tbody>\n",
       "</table>"
      ],
      "text/plain": [
       "<IPython.core.display.HTML object>"
      ]
     },
     "metadata": {},
     "output_type": "display_data"
    }
   ],
   "source": [
    "est1.print_summary()"
   ]
  },
  {
   "cell_type": "code",
   "execution_count": 31,
   "id": "f75de9f7-a55d-433a-aaaa-e0b2fdc94c52",
   "metadata": {
    "tags": []
   },
   "outputs": [
    {
     "data": {
      "image/png": "[encoded data removed]",
      "text/plain": [
       "<Figure size 1000x700 with 1 Axes>"
      ]
     },
     "metadata": {},
     "output_type": "display_data"
    }
   ],
   "source": [
    "# Cada tentativa é uma tupla de:\n",
    "# (algoritmo, nº de amostras, nº de features, score médio de CV, hiperparâmetros,\n",
    "#  todos os scores de CV, tempo total de CV (s), uso de memória (GB))\n",
    "\n",
    "trials = est1.model_selection_trials_  # Obtém a lista de tentativas de seleção de modelo realizadas pelo AutoML\n",
    "colors = []  # Lista para armazenar as cores das barras no gráfico\n",
    "\n",
    "# Extrai apenas os scores médios de validação cruzada (posição 3 da tupla)\n",
    "scores = [x[3] for x in trials]\n",
    "\n",
    "# Extrai os nomes dos algoritmos (posição 0 da tupla)\n",
    "models = [x[0] for x in trials]\n",
    "\n",
    "# Define a margem de espaço acima e abaixo dos scores para o eixo Y\n",
    "y_margin = 0.10 * (max(scores) - min(scores))\n",
    "\n",
    "# Cria uma Series do pandas com os scores indexados pelos modelos, ordenada do maior para o menor score\n",
    "s = pd.Series(scores, index=models).sort_values(ascending=False)\n",
    "\n",
    "# Define a cor de cada barra com base no desempenho em relação à média\n",
    "for f in s.keys():\n",
    "    if f == '{}_AS'.format(est1.selected_model_):  # Se for o modelo selecionado\n",
    "        colors.append('orange')  # Cor laranja para o melhor modelo\n",
    "    elif s[f] > s.mean():  # Se o score for acima da média\n",
    "        colors.append('teal')  # Cor azul-petróleo\n",
    "    else:\n",
    "        colors.append('turquoise')  # Caso contrário, cor turquesa\n",
    "\n",
    "# Cria o gráfico de barras\n",
    "fig, ax = plt.subplots(1)\n",
    "\n",
    "# Define o título do gráfico\n",
    "ax.set_title(\"Algorithm Selection Trials\")\n",
    "\n",
    "# Define os limites do eixo Y com margem\n",
    "ax.set_ylim(min(scores) - y_margin, max(scores) + y_margin)\n",
    "\n",
    "# Define o rótulo do eixo Y com a métrica inferida (ex: Acurácia, F1, etc.)\n",
    "ax.set_ylabel(est1.inferred_score_metric[0])\n",
    "\n",
    "# Plota as barras com as cores definidas e borda preta\n",
    "s.plot.bar(ax=ax, color=colors, edgecolor='black')\n",
    "\n",
    "# Adiciona uma linha horizontal preta indicando o score médio\n",
    "ax.axhline(y=s.mean(), color='black', linewidth=0.5)\n",
    "\n",
    "# Mostra o gráfico\n",
    "plt.show()\n",
    "\n",
    "\n",
    "\n",
    "\n",
    "\n"
   ]
  }
 ],
 "metadata": {
  "kernelspec": {
   "display_name": "Python [conda env:automlx_p38_cpu_v2]",
   "language": "python",
   "name": "conda-env-automlx_p38_cpu_v2-py"
  },
  "language_info": {
   "codemirror_mode": {
    "name": "ipython",
    "version": 3
   },
   "file_extension": ".py",
   "mimetype": "text/x-python",
   "name": "python",
   "nbconvert_exporter": "python",
   "pygments_lexer": "ipython3",
   "version": "3.8.16"
  }
 },
 "nbformat": 4,
 "nbformat_minor": 5
}
