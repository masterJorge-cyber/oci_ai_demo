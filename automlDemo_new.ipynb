{
 "cells": [
  {
   "cell_type": "markdown",
   "id": "dd400dac-2ddd-4c6e-bd80-031e337df7b5",
   "metadata": {
    "jupyter": {
     "source_hidden": true
    },
    "tags": []
   },
   "source": [
    "### OCI Data Science - Useful Tips\n",
    "<details>\n",
    "<summary><font size=\"2\">Check for Public Internet Access</font></summary>\n",
    "\n",
    "```python\n",
    "import requests\n",
    "response = requests.get(\"https://oracle.com\")\n",
    "assert response.status_code==200, \"Internet connection failed\"\n",
    "```\n",
    "</details>\n",
    "<details>\n",
    "<summary><font size=\"2\">Helpful Documentation </font></summary>\n",
    "<ul><li><a href=\"https://docs.cloud.oracle.com/en-us/iaas/data-science/using/data-science.htm\">Data Science Service Documentation</a></li>\n",
    "<li><a href=\"https://docs.cloud.oracle.com/iaas/tools/ads-sdk/latest/index.html\">ADS documentation</a></li>\n",
    "</ul>\n",
    "</details>\n",
    "<details>\n",
    "<summary><font size=\"2\">Typical Cell Imports and Settings for ADS</font></summary>\n",
    "\n",
    "```python\n",
    "%load_ext autoreload\n",
    "%autoreload 2\n",
    "%matplotlib inline\n",
    "\n",
    "import warnings\n",
    "warnings.filterwarnings('ignore')\n",
    "\n",
    "import logging\n",
    "logging.basicConfig(format='%(levelname)s:%(message)s', level=logging.ERROR)\n",
    "\n",
    "import ads\n",
    "from ads.dataset.factory import DatasetFactory\n",
    "from ads.automl.provider import OracleAutoMLProvider\n",
    "from ads.automl.driver import AutoML\n",
    "from ads.evaluations.evaluator import ADSEvaluator\n",
    "from ads.common.data import ADSData\n",
    "from ads.explanations.explainer import ADSExplainer\n",
    "from ads.explanations.mlx_global_explainer import MLXGlobalExplainer\n",
    "from ads.explanations.mlx_local_explainer import MLXLocalExplainer\n",
    "from ads.catalog.model import ModelCatalog\n",
    "from ads.common.model_artifact import ModelArtifact\n",
    "```\n",
    "</details>\n",
    "<details>\n",
    "<summary><font size=\"2\">Useful Environment Variables</font></summary>\n",
    "\n",
    "```python\n",
    "import os\n",
    "print(os.environ[\"NB_SESSION_COMPARTMENT_OCID\"])\n",
    "print(os.environ[\"PROJECT_OCID\"])\n",
    "print(os.environ[\"USER_OCID\"])\n",
    "print(os.environ[\"TENANCY_OCID\"])\n",
    "print(os.environ[\"NB_REGION\"])\n",
    "```\n",
    "</details>"
   ]
  },
  {
   "cell_type": "code",
   "execution_count": null,
   "id": "7a22080a-52df-42fa-bd18-02903967596d",
   "metadata": {
    "tags": []
   },
   "outputs": [],
   "source": [
    "%matplotlib inline\n",
    "%load_ext autoreload\n",
    "%autoreload 2\n"
   ]
  },
  {
   "cell_type": "code",
   "execution_count": null,
   "id": "c6039536-14cc-4ae8-8e24-63e424bf9b3a",
   "metadata": {
    "tags": []
   },
   "outputs": [],
   "source": [
    "import gzip  # Trabalha com arquivos comprimidos no formato .gz (gzip)\n",
    "import pandas as pd  # Manipulação de dados em formato de tabela (DataFrame)\n",
    "import numpy as np  # Operações matemáticas e estruturas de arrays eficientes\n",
    "import matplotlib.pyplot as plt  # Criação de gráficos básicos e visualizações\n",
    "import seaborn as sns  # Gráficos estatísticos com estilo mais bonito (baseado no matplotlib)\n",
    "from sklearn.metrics import (\n",
    "    roc_auc_score,        # Métrica AUC para avaliação de classificadores\n",
    "    confusion_matrix,     # Matriz de confusão para avaliação de modelos\n",
    "    make_scorer,          # Criação de métricas personalizadas\n",
    "    f1_score              # Métrica F1 que combina precisão e recall\n",
    ")\n",
    "from sklearn.linear_model import LogisticRegression  # Algoritmo de regressão logística (classificação binária)\n",
    "from sklearn.compose import make_column_selector as selector  # Seleciona colunas com base em tipo ou nomes\n",
    "from sklearn.impute import SimpleImputer  # Preenchimento de valores ausentes (missing data)\n",
    "from sklearn.preprocessing import StandardScaler, OneHotEncoder  # Padronização de dados e codificação categórica\n",
    "from sklearn.compose import ColumnTransformer  # Aplica transformações diferentes em colunas distintas\n",
    "from sklearn.pipeline import Pipeline  # Cria sequência ordenada de etapas (pipeline de modelagem)\n",
    "from sklearn.datasets import fetch_openml  # Baixa datasets públicos do OpenML direto pro seu notebook\n",
    "from sklearn.model_selection import train_test_split  # Divide os dados entre treino e teste\n",
    "\n",
    "#Settings for plots\n",
    "plt.rcParams['figure.figsize'] = [10, 7]  # Define o tamanho padrão dos gráficos como 10x7 polegadas\n",
    "plt.rcParams['font.size'] = 15            # Define o tamanho padrão da fonte nos gráficos matplotlib\n",
    "sns.set(color_codes=True)                 # Ativa uso de códigos de cor (ex: 'b' para azul) no Seaborn\n",
    "sns.set(font_scale=1.5)                   # Aumenta a escala do tamanho da fonte nos gráficos do Seaborn\n",
    "sns.set_palette(\"bright\")                 # Define paleta de cores vibrantes para os gráficos do Seaborn\n",
    "sns.set_style(\"whitegrid\")                # Aplica estilo com fundo branco e linhas de grade (ideal pra visualização)"
   ]
  },
  {
   "cell_type": "code",
   "execution_count": null,
   "id": "c4bec799-0d81-465b-b042-7c3a3dc0b2a8",
   "metadata": {
    "tags": []
   },
   "outputs": [],
   "source": [
    "\n",
    "\n",
    "dataset = fetch_openml(name = 'adult', as_frame =True)\n",
    "df, y = dataset.data, dataset.target"
   ]
  },
  {
   "cell_type": "code",
   "execution_count": null,
   "id": "608f73e4-3d1e-4675-92fa-8778386bf24e",
   "metadata": {
    "tags": []
   },
   "outputs": [],
   "source": [
    "df.head()"
   ]
  },
  {
   "cell_type": "code",
   "execution_count": null,
   "id": "b531059c",
   "metadata": {
    "tags": []
   },
   "outputs": [],
   "source": [
    "\n",
    "class_type = y.unique();\n",
    "print(f\"\\nClass type: {class_type[0]} - {class_type[1]}\")\n",
    "\n",
    "df[y.name] = y.astype('category').cat.codes  # Converte a variável alvo para o tipo categórico\n",
    "\n",
    "r = len(df)\n",
    "\n",
    "print(f\"DataSet has {r} rows and {df.shape[1]} columns\")\n",
    "\n",
    "for r in y.unique():\n",
    "    print(f\"\\nClass {r} has {len(df[df[y.name] == r])} rows\")\n",
    "\n"
   ]
  },
  {
   "cell_type": "code",
   "execution_count": null,
   "id": "87bf24f8",
   "metadata": {
    "tags": []
   },
   "outputs": [],
   "source": [
    "pd.DataFrame({'Data types': df.dtypes}).T"
   ]
  },
  {
   "cell_type": "code",
   "execution_count": null,
   "id": "6fdc0cf4",
   "metadata": {
    "tags": []
   },
   "outputs": [],
   "source": [
    "pd.DataFrame({'Missing values': df.isnull().sum() * 100/ len(df)}).T"
   ]
  },
  {
   "cell_type": "code",
   "execution_count": null,
   "id": "2ce4bf68",
   "metadata": {
    "tags": []
   },
   "outputs": [],
   "source": [
    "y_df = pd.DataFrame(y);\n",
    "y_df.columns = ['income']  # Renomeia a coluna do DataFrame de y para o nome original\n",
    "\n",
    "ax = sns.countplot(x='income', data=y_df) # Plota a contagem de cada classe na variável alvo 'income'\n",
    "ax.bar_label(ax.containers[0])  # Adiciona rótulos de contagem em cima de cada barra do gráfico\n",
    "\n",
    "plt.title('Contagem de cada classe em income')  # Define o título do gráfico\n",
    "plt.xlabel('Classe')\n",
    "plt.ylabel('Quantidade')\n",
    "plt.show()"
   ]
  },
  {
   "cell_type": "code",
   "execution_count": null,
   "id": "a955ec2c",
   "metadata": {
    "tags": []
   },
   "outputs": [],
   "source": [
    "numeric_columns = ['age', 'capitalgain', 'capitalloss', 'hoursperweek']\n",
    "for col in df.columns:\n",
    "    if col in numeric_columns:\n",
    "        df[col] = df[col].astype('int')\n",
    "\n",
    "# Map y to binary and convert to int\n",
    "y_binary = y.map({'>50K': 1, '<=50K': 0}).astype(int)\n",
    "\n",
    "# Split the data\n",
    "X_train, X_test, y_train, y_test = train_test_split(df, y_binary, train_size=0.7, random_state=42)\n",
    "\n",
    "X_train.shape, X_test.shape  # Divide os dados em conjuntos de treino e teste, mapeando as classes para 1 e 0"
   ]
  },
  {
   "cell_type": "code",
   "execution_count": null,
   "id": "309f6462",
   "metadata": {
    "tags": []
   },
   "outputs": [],
   "source": [
    "import automlx  # Importa o pacote completo 'automl', que pode conter métodos para AutoML (automatizar experimentos de machine learning)\n",
    "\n",
    "from automlx import init  # Importa especificamente a função 'init' do pacote — geralmente usada para inicializar ou configurar o ambiente AutoML\n",
    "init(engine='local') # Inicializa o ambiente AutoML localmente"
   ]
  },
  {
   "cell_type": "code",
   "execution_count": null,
   "id": "db7333c2",
   "metadata": {
    "tags": []
   },
   "outputs": [],
   "source": [
    "est1 = automlx.Pipeline(task = 'classification') # Cria um pipeline de automação de machine learning para classificação\n",
    "est1.fit(X_train, y_train)  # Treina o modelo com os dados de treino"
   ]
  },
  {
   "cell_type": "code",
   "execution_count": null,
   "id": "7cc6eb61",
   "metadata": {},
   "outputs": [],
   "source": []
  },
  {
   "cell_type": "code",
   "execution_count": null,
   "id": "c4e0fc23-92db-4c3c-9685-6a58966a91e4",
   "metadata": {
    "tags": []
   },
   "outputs": [],
   "source": [
    "y_proba = est1.predict_proba(X_test)\n",
    "score_default = roc_auc_score(y_test,y_proba[:,1])\n",
    "\n",
    "print(f'Score on test data: {score_default}')"
   ]
  },
  {
   "cell_type": "code",
   "execution_count": null,
   "id": "65739f83-1b19-4ec1-ac69-bd1996476a53",
   "metadata": {
    "tags": []
   },
   "outputs": [],
   "source": [
    "est1.print_summary()"
   ]
  },
  {
   "cell_type": "code",
   "execution_count": null,
   "id": "f75de9f7-a55d-433a-aaaa-e0b2fdc94c52",
   "metadata": {
    "tags": []
   },
   "outputs": [],
   "source": [
    "# Cada tentativa é uma tupla de:\n",
    "# (algoritmo, nº de amostras, nº de features, score médio de CV, hiperparâmetros,\n",
    "#  todos os scores de CV, tempo total de CV (s), uso de memória (GB))\n",
    "\n",
    "trials = est1.model_selection_trials_  # Obtém a lista de tentativas de seleção de modelo realizadas pelo AutoML\n",
    "colors = []  # Lista para armazenar as cores das barras no gráfico\n",
    "\n",
    "# Extrai apenas os scores médios de validação cruzada (posição 3 da tupla)\n",
    "scores = [x[3] for x in trials]\n",
    "\n",
    "# Extrai os nomes dos algoritmos (posição 0 da tupla)\n",
    "models = [x[0] for x in trials]\n",
    "\n",
    "# Define a margem de espaço acima e abaixo dos scores para o eixo Y\n",
    "y_margin = 0.10 * (max(scores) - min(scores))\n",
    "\n",
    "# Cria uma Series do pandas com os scores indexados pelos modelos, ordenada do maior para o menor score\n",
    "s = pd.Series(scores, index=models).sort_values(ascending=False)\n",
    "\n",
    "# Define a cor de cada barra com base no desempenho em relação à média\n",
    "for f in s.keys():\n",
    "    if f == '{}_AS'.format(est1.selected_model_):  # Se for o modelo selecionado\n",
    "        colors.append('orange')  # Cor laranja para o melhor modelo\n",
    "    elif s[f] > s.mean():  # Se o score for acima da média\n",
    "        colors.append('teal')  # Cor azul-petróleo\n",
    "    else:\n",
    "        colors.append('turquoise')  # Caso contrário, cor turquesa\n",
    "\n",
    "# Cria o gráfico de barras\n",
    "fig, ax = plt.subplots(1)\n",
    "\n",
    "# Define o título do gráfico\n",
    "ax.set_title(\"Algorithm Selection Trials\")\n",
    "\n",
    "# Define os limites do eixo Y com margem\n",
    "ax.set_ylim(min(scores) - y_margin, max(scores) + y_margin)\n",
    "\n",
    "# Define o rótulo do eixo Y com a métrica inferida (ex: Acurácia, F1, etc.)\n",
    "ax.set_ylabel(est1.inferred_score_metric[0])\n",
    "\n",
    "# Plota as barras com as cores definidas e borda preta\n",
    "s.plot.bar(ax=ax, color=colors, edgecolor='black')\n",
    "\n",
    "# Adiciona uma linha horizontal preta indicando o score médio\n",
    "ax.axhline(y=s.mean(), color='black', linewidth=0.5)\n",
    "\n",
    "# Mostra o gráfico\n",
    "plt.show()\n",
    "\n",
    "\n",
    "\n",
    "\n",
    "\n"
   ]
  },
  {
   "cell_type": "code",
   "execution_count": null,
   "id": "9e1230fd-24d2-403c-9f11-5951c3e42164",
   "metadata": {
    "tags": []
   },
   "outputs": [],
   "source": [
    "# Cada tentativa é uma tupla de:\n",
    "# (algoritmo, nº de amostras, nº de features, score médio de CV, hiperparâmetros,\n",
    "#  todos os scores de CV, tempo total de CV (s), uso de memória (GB))\n",
    "\n",
    "trials = est1.adaptive_sampling_trials_  # Obtém as tentativas de amostragem adaptativa realizadas pelo AutoML\n",
    "\n",
    "# Extrai os scores médios de validação cruzada (posição 3 da tupla)\n",
    "scores = [x[3] for x in trials]\n",
    "\n",
    "# Extrai o número de amostras usadas em cada tentativa (posição 1 da tupla)\n",
    "n_samples = [x[1] for x in trials]\n",
    "\n",
    "# Define uma margem para o eixo Y com base na diferença entre o maior e o menor score\n",
    "y_margin = 0.10 * (max(scores) - min(scores))\n",
    "\n",
    "# Cria a figura e o eixo para o gráfico\n",
    "fig, ax = plt.subplots(1)\n",
    "\n",
    "# Define o título do gráfico com o nome do algoritmo testado (posição 0 da primeira tupla)\n",
    "ax.set_title(\"Adaptive Sampling ({})\".format(trials[0][0]))\n",
    "\n",
    "# Define o rótulo do eixo X como o tamanho da amostra usada no dataset\n",
    "ax.set_xlabel('Dataset sample size')\n",
    "\n",
    "# Define o rótulo do eixo Y com a métrica usada no score (ex: Acurácia, F1, etc.)\n",
    "ax.set_ylabel(est1.inferred_score_metric_)\n",
    "\n",
    "# Adiciona grade ao gráfico para melhor visualização\n",
    "ax.grid(color='g', linestyle='--', linewidth=0.1)\n",
    "\n",
    "# Define os limites do eixo Y com a margem definida\n",
    "ax.set_ylim(min(scores) - y_margin, max(scores) + y_margin)\n",
    "\n",
    "# Plota os pontos com marcador quadrado (\"s\"), cor teal, e tamanho 3\n",
    "ax.plot(n_samples, scores, 'k-', marker='s', color='teal', markersize=3)\n",
    "\n",
    "# Exibe o gráfico\n",
    "plt.show()\n"
   ]
  }
 ],
 "metadata": {
  "kernelspec": {
   "display_name": "automlx_p38_cpu_v2",
   "language": "python",
   "name": "python3"
  },
  "language_info": {
   "codemirror_mode": {
    "name": "ipython",
    "version": 3
   },
   "file_extension": ".py",
   "mimetype": "text/x-python",
   "name": "python",
   "nbconvert_exporter": "python",
   "pygments_lexer": "ipython3",
   "version": "3.8.20"
  }
 },
 "nbformat": 4,
 "nbformat_minor": 5
}
