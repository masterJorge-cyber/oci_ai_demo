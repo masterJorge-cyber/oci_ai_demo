{
 "cells": [
  {
   "cell_type": "markdown",
   "id": "dd400dac-2ddd-4c6e-bd80-031e337df7b5",
   "metadata": {
    "jupyter": {
     "source_hidden": true
    },
    "tags": []
   },
   "source": [
    "### OCI Data Science - Useful Tips\n",
    "<details>\n",
    "<summary><font size=\"2\">Check for Public Internet Access</font></summary>\n",
    "\n",
    "```python\n",
    "import requests\n",
    "response = requests.get(\"https://oracle.com\")\n",
    "assert response.status_code==200, \"Internet connection failed\"\n",
    "```\n",
    "</details>\n",
    "<details>\n",
    "<summary><font size=\"2\">Helpful Documentation </font></summary>\n",
    "<ul><li><a href=\"https://docs.cloud.oracle.com/en-us/iaas/data-science/using/data-science.htm\">Data Science Service Documentation</a></li>\n",
    "<li><a href=\"https://docs.cloud.oracle.com/iaas/tools/ads-sdk/latest/index.html\">ADS documentation</a></li>\n",
    "</ul>\n",
    "</details>\n",
    "<details>\n",
    "<summary><font size=\"2\">Typical Cell Imports and Settings for ADS</font></summary>\n",
    "\n",
    "```python\n",
    "%load_ext autoreload\n",
    "%autoreload 2\n",
    "%matplotlib inline\n",
    "\n",
    "import warnings\n",
    "warnings.filterwarnings('ignore')\n",
    "\n",
    "import logging\n",
    "logging.basicConfig(format='%(levelname)s:%(message)s', level=logging.ERROR)\n",
    "\n",
    "import ads\n",
    "from ads.dataset.factory import DatasetFactory\n",
    "from ads.automl.provider import OracleAutoMLProvider\n",
    "from ads.automl.driver import AutoML\n",
    "from ads.evaluations.evaluator import ADSEvaluator\n",
    "from ads.common.data import ADSData\n",
    "from ads.explanations.explainer import ADSExplainer\n",
    "from ads.explanations.mlx_global_explainer import MLXGlobalExplainer\n",
    "from ads.explanations.mlx_local_explainer import MLXLocalExplainer\n",
    "from ads.catalog.model import ModelCatalog\n",
    "from ads.common.model_artifact import ModelArtifact\n",
    "```\n",
    "</details>\n",
    "<details>\n",
    "<summary><font size=\"2\">Useful Environment Variables</font></summary>\n",
    "\n",
    "```python\n",
    "import os\n",
    "print(os.environ[\"NB_SESSION_COMPARTMENT_OCID\"])\n",
    "print(os.environ[\"PROJECT_OCID\"])\n",
    "print(os.environ[\"USER_OCID\"])\n",
    "print(os.environ[\"TENANCY_OCID\"])\n",
    "print(os.environ[\"NB_REGION\"])\n",
    "```\n",
    "</details>"
   ]
  },
  {
   "cell_type": "code",
   "execution_count": null,
   "id": "7a22080a-52df-42fa-bd18-02903967596d",
   "metadata": {
    "tags": []
   },
   "outputs": [],
   "source": [
    "%matplotlib inline\n",
    "%load_ext autoreload\n",
    "%autoreload 2\n"
   ]
  },
  {
   "cell_type": "code",
   "execution_count": null,
   "id": "c6039536-14cc-4ae8-8e24-63e424bf9b3a",
   "metadata": {
    "tags": []
   },
   "outputs": [],
   "source": [
    "import gzip  # Trabalha com arquivos comprimidos no formato .gz (gzip)\n",
    "import pandas as pd  # Manipulação de dados em formato de tabela (DataFrame)\n",
    "import numpy as np  # Operações matemáticas e estruturas de arrays eficientes\n",
    "import matplotlib.pyplot as plt  # Criação de gráficos básicos e visualizações\n",
    "import seaborn as sns  # Gráficos estatísticos com estilo mais bonito (baseado no matplotlib)\n",
    "from sklearn.metrics import (\n",
    "    roc_auc_score,        # Métrica AUC para avaliação de classificadores\n",
    "    confusion_matrix,     # Matriz de confusão para avaliação de modelos\n",
    "    make_scorer,          # Criação de métricas personalizadas\n",
    "    f1_score              # Métrica F1 que combina precisão e recall\n",
    ")\n",
    "from sklearn.linear_model import LogisticRegression  # Algoritmo de regressão logística (classificação binária)\n",
    "from sklearn.compose import make_column_selector as selector  # Seleciona colunas com base em tipo ou nomes\n",
    "from sklearn.impute import SimpleImputer  # Preenchimento de valores ausentes (missing data)\n",
    "from sklearn.preprocessing import StandardScaler, OneHotEncoder  # Padronização de dados e codificação categórica\n",
    "from sklearn.compose import ColumnTransformer  # Aplica transformações diferentes em colunas distintas\n",
    "from sklearn.pipeline import Pipeline  # Cria sequência ordenada de etapas (pipeline de modelagem)\n",
    "from sklearn.datasets import fetch_openml  # Baixa datasets públicos do OpenML direto pro seu notebook\n",
    "from sklearn.model_selection import train_test_split  # Divide os dados entre treino e teste\n",
    "\n",
    "#Settings for plots\n",
    "plt.rcParams['figure.figsize'] = [10, 7]  # Define o tamanho padrão dos gráficos como 10x7 polegadas\n",
    "plt.rcParams['font.size'] = 15            # Define o tamanho padrão da fonte nos gráficos matplotlib\n",
    "sns.set(color_codes=True)                 # Ativa uso de códigos de cor (ex: 'b' para azul) no Seaborn\n",
    "sns.set(font_scale=1.5)                   # Aumenta a escala do tamanho da fonte nos gráficos do Seaborn\n",
    "sns.set_palette(\"bright\")                 # Define paleta de cores vibrantes para os gráficos do Seaborn\n",
    "sns.set_style(\"whitegrid\")                # Aplica estilo com fundo branco e linhas de grade (ideal pra visualização)"
   ]
  },
  {
   "cell_type": "code",
   "execution_count": null,
   "id": "27e3851f-f195-449e-9b49-02f33e7cec4f",
   "metadata": {
    "tags": []
   },
   "outputs": [],
   "source": [
    "from tqdm import tqdm # Barra de progresso para loops (tqdm é uma biblioteca que facilita a visualização do progresso de loops longos)\n",
    "\n",
    "import automlx  # Importa o pacote completo 'automl', que pode conter métodos para AutoML (automatizar experimentos de machine learning)\n",
    "\n",
    "from automlx import init  # Importa especificamente a função 'init' do pacote — geralmente usada para inicializar ou configurar o ambiente AutoML"
   ]
  },
  {
   "cell_type": "code",
   "execution_count": null,
   "id": "c4bec799-0d81-465b-b042-7c3a3dc0b2a8",
   "metadata": {
    "tags": []
   },
   "outputs": [],
   "source": [
    "\n",
    "\n",
    "dataset = fetch_openml(name = 'adult', as_frame =True)\n",
    "df, y = dataset.data, dataset.target"
   ]
  },
  {
   "cell_type": "code",
   "execution_count": null,
   "id": "608f73e4-3d1e-4675-92fa-8778386bf24e",
   "metadata": {
    "tags": []
   },
   "outputs": [],
   "source": [
    "df.head()"
   ]
  },
  {
   "cell_type": "code",
   "execution_count": null,
   "id": "b531059c",
   "metadata": {},
   "outputs": [],
   "source": [
    "\n",
    "class_type = y.unique();\n",
    "print(f\"\\nClass type: {class_type[0]} - {class_type[1]}\")\n",
    "\n",
    "df[y.name] = y.astype('category').cat.codes  # Converte a variável alvo para o tipo categórico\n",
    "\n",
    "r = len(df)\n",
    "\n",
    "print(f\"DataSet has {r} rows and {df.shape[1]} columns\")\n",
    "\n",
    "for r in y.unique():\n",
    "    print(f\"\\nClass {r} has {len(df[df[y.name] == r])} rows\")\n",
    "\n"
   ]
  },
  {
   "cell_type": "code",
   "execution_count": null,
   "id": "87bf24f8",
   "metadata": {},
   "outputs": [],
   "source": [
    "pd.DataFrame({'Data types': df.dtypes}).T"
   ]
  },
  {
   "cell_type": "code",
   "execution_count": null,
   "id": "6fdc0cf4",
   "metadata": {},
   "outputs": [],
   "source": [
    "pd.DataFrame({'Missing values': df.isnull().sum() * 100/ len(df)}).T"
   ]
  },
  {
   "cell_type": "code",
   "execution_count": null,
   "id": "2ce4bf68",
   "metadata": {},
   "outputs": [],
   "source": [
    "y_df = pd.DataFrame(y);\n",
    "y_df.columns = ['income']  # Renomeia a coluna do DataFrame de y para o nome original\n",
    "\n",
    "ax = sns.countplot(x='income', data=y_df) # Plota a contagem de cada classe na variável alvo 'income'\n",
    "ax.bar_label(ax.containers[0])  # Adiciona rótulos de contagem em cima de cada barra do gráfico\n",
    "\n",
    "plt.title('Contagem de cada classe em income')  # Define o título do gráfico\n",
    "plt.xlabel('Classe')\n",
    "plt.ylabel('Quantidade')\n",
    "plt.show()"
   ]
  },
  {
   "cell_type": "code",
   "execution_count": null,
   "id": "a955ec2c",
   "metadata": {},
   "outputs": [],
   "source": [
    "numeric_columns = ['age', 'capitalgain', 'capitalloss', 'hoursperweek']\n",
    "for col in df.columns:\n",
    "    if col in numeric_columns:\n",
    "        df[col] = df[col].astype('int')\n",
    "\n",
    "# Map y to binary and convert to int\n",
    "y_binary = y.map({'>50K': 1, '<=50K': 0}).astype(int)\n",
    "\n",
    "# Split the data\n",
    "X_train, X_test, y_train, y_test = train_test_split(df, y_binary, train_size=0.7, random_state=42)\n",
    "\n",
    "X_train.shape, X_test.shape  # Divide os dados em conjuntos de treino e teste, mapeando as classes para 1 e 0"
   ]
  },
  {
   "cell_type": "code",
   "execution_count": null,
   "id": "309f6462",
   "metadata": {},
   "outputs": [],
   "source": [
    "init(engine='local') # Inicializa o ambiente AutoML localmente"
   ]
  },
  {
   "cell_type": "code",
   "execution_count": null,
   "id": "db7333c2",
   "metadata": {},
   "outputs": [],
   "source": [
    "est1 = automlx.Pipeline(task = 'classification') # Cria um pipeline de automação de machine learning para classificação\n",
    "est1.fit(X_train, y_train)  # Treina o modelo com os dados de treino"
   ]
  }
 ],
 "metadata": {
  "kernelspec": {
   "display_name": "automlx-env",
   "language": "python",
   "name": "python3"
  },
  "language_info": {
   "codemirror_mode": {
    "name": "ipython",
    "version": 3
   },
   "file_extension": ".py",
   "mimetype": "text/x-python",
   "name": "python",
   "nbconvert_exporter": "python",
   "pygments_lexer": "ipython3",
   "version": "3.11.13"
  }
 },
 "nbformat": 4,
 "nbformat_minor": 5
}
