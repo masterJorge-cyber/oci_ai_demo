{
 "cells": [
  {
   "cell_type": "code",
   "execution_count": null,
   "id": "486ebd01",
   "metadata": {},
   "outputs": [
    {
     "name": "stdout",
     "output_type": "stream",
     "text": [
      "Primeiras 5 linhas do dataset Iris (features):\n",
      "   sepal length (cm)  sepal width (cm)  petal length (cm)  petal width (cm)\n",
      "0                5.1               3.5                1.4               0.2\n",
      "1                4.9               3.0                1.4               0.2\n",
      "2                4.7               3.2                1.3               0.2\n",
      "3                4.6               3.1                1.5               0.2\n",
      "4                5.0               3.6                1.4               0.2\n",
      "\n",
      "Primeiras 5 linhas do dataset Iris (target - espécies):\n",
      "0    setosa\n",
      "1    setosa\n",
      "2    setosa\n",
      "3    setosa\n",
      "4    setosa\n",
      "dtype: object\n",
      "\n",
      "Tamanho do conjunto de treino: 120 amostras\n",
      "Tamanho do conjunto de teste: 30 amostras\n"
     ]
    }
   ],
   "source": [
    "import pandas as pd\n",
    "from sklearn.datasets import load_iris\n",
    "from sklearn.model_selection import train_test_split\n",
    "\n",
    "# Carregar o dataset Iris\n",
    "iris = load_iris()\n",
    "X = pd.DataFrame(iris.data, columns=iris.feature_names)\n",
    "y = pd.Series(iris.target)\n",
    "\n",
    "# Mapear os rótulos numéricos para nomes de espécies para melhor legibilidade\n",
    "target_names = iris.target_names\n",
    "y_named = y.map(lambda x: target_names[x])\n",
    "\n",
    "print(\"Primeiras 5 linhas do dataset Iris (features):\")\n",
    "print(X.head())\n",
    "print(\"\\nPrimeiras 5 linhas do dataset Iris (target - espécies):\")\n",
    "print(y_named.head())\n",
    "\n",
    "# Dividir os dados em conjuntos de treino e teste\n",
    "X_train, X_test, y_train, y_test = train_test_split(X, y_named, test_size=0.2, random_state=42)\n",
    "\n",
    "print(f\"\\nTamanho do conjunto de treino: {len(X_train)} amostras\")\n",
    "print(f\"Tamanho do conjunto de teste: {len(X_test)} amostras\")"
   ]
  },
  {
   "cell_type": "code",
   "execution_count": 3,
   "id": "12893d71",
   "metadata": {},
   "outputs": [
    {
     "name": "stdout",
     "output_type": "stream",
     "text": [
      "[2025-08-05 22:43:38,495] [automlx.interface] Dataset shape: (120,4)\n",
      "[2025-08-05 22:43:38,696] [automlx.data_transform] Running preprocessing. Number of features: 5\n",
      "[2025-08-05 22:43:38,917] [automlx.data_transform] Preprocessing completed. Took 0.221 secs\n",
      "[2025-08-05 22:43:38,951] [automlx.process] Running Model Generation\n",
      "[2025-08-05 22:43:39,010] [automlx.process] Model Generation completed.\n",
      "[2025-08-05 22:43:39,112] [automlx.model_selection] Running Model Selection\n",
      "[2025-08-05 22:43:39,113] [automlx.trials] Fewer models (1) than top_k (1) provided, skipping...\n",
      "[2025-08-05 22:43:39,217] [automlx.adaptive_sampling] Running Adaptive Sampling. Dataset shape: (120,5).\n",
      "[2025-08-05 22:43:39,240] [automlx.adaptive_sampling] Adaptive Sampling: top_limit: 33 < bottom_limit: 1000,\n",
      "sampling process will be skipped\n",
      "[2025-08-05 22:43:39,255] [automlx.adaptive_sampling] Adaptive Sampling: top_limit: 9 < bottom_limit: 1000,\n",
      "sampling process will be skipped\n",
      "[2025-08-05 22:43:39,547] [automlx.feature_selection] Starting feature ranking for DecisionTreeClassifier\n"
     ]
    },
    {
     "ename": "",
     "evalue": "",
     "output_type": "error",
     "traceback": [
      "\u001b[1;31mThe Kernel crashed while executing code in the current cell or a previous cell. \n",
      "\u001b[1;31mPlease review the code in the cell(s) to identify a possible cause of the failure. \n",
      "\u001b[1;31mClick <a href='https://aka.ms/vscodeJupyterKernelCrash'>here</a> for more info. \n",
      "\u001b[1;31mView Jupyter <a href='command:jupyter.viewOutput'>log</a> for further details."
     ]
    }
   ],
   "source": [
    "import automlx as automlx\n",
    "from automlx import init \n",
    "\n",
    "init(engine='local') # Inicializa o ambiente AutoML localmente\n",
    "# O método .fit() inicia o processo de busca do melhor modelo\n",
    "\n",
    "est1 = automlx.Pipeline(task = 'classification', model_list=['DecisionTreeClassifier']) # Cria um pipeline de automação de machine learning para classificação\n",
    "est1.fit(X_train, y_train) # Treina o modelo com os dados de treino\n"
   ]
  }
 ],
 "metadata": {
  "kernelspec": {
   "display_name": "py310_env",
   "language": "python",
   "name": "python3"
  },
  "language_info": {
   "codemirror_mode": {
    "name": "ipython",
    "version": 3
   },
   "file_extension": ".py",
   "mimetype": "text/x-python",
   "name": "python",
   "nbconvert_exporter": "python",
   "pygments_lexer": "ipython3",
   "version": "3.10.18"
  }
 },
 "nbformat": 4,
 "nbformat_minor": 5
}
