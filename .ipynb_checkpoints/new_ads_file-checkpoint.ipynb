{
 "cells": [
  {
   "cell_type": "code",
   "execution_count": 1,
   "id": "486ebd01",
   "metadata": {},
   "outputs": [
    {
     "name": "stdout",
     "output_type": "stream",
     "text": [
      "Primeiras 5 linhas do dataset Iris (features):\n",
      "   sepal length (cm)  sepal width (cm)  petal length (cm)  petal width (cm)\n",
      "0                5.1               3.5                1.4               0.2\n",
      "1                4.9               3.0                1.4               0.2\n",
      "2                4.7               3.2                1.3               0.2\n",
      "3                4.6               3.1                1.5               0.2\n",
      "4                5.0               3.6                1.4               0.2\n",
      "\n",
      "Primeiras 5 linhas do dataset Iris (target - espécies):\n",
      "0    setosa\n",
      "1    setosa\n",
      "2    setosa\n",
      "3    setosa\n",
      "4    setosa\n",
      "dtype: object\n",
      "\n",
      "Tamanho do conjunto de treino: 120 amostras\n",
      "Tamanho do conjunto de teste: 30 amostras\n"
     ]
    }
   ],
   "source": [
    "import pandas as pd\n",
    "from sklearn.datasets import load_iris\n",
    "from sklearn.model_selection import train_test_split\n",
    "\n",
    "# Carregar o dataset Iris\n",
    "iris = load_iris()\n",
    "X = pd.DataFrame(iris.data, columns=iris.feature_names)\n",
    "y = pd.Series(iris.target)\n",
    "\n",
    "# Mapear os rótulos numéricos para nomes de espécies para melhor legibilidade\n",
    "target_names = iris.target_names\n",
    "y_named = y.map(lambda x: target_names[x])\n",
    "\n",
    "print(\"Primeiras 5 linhas do dataset Iris (features):\")\n",
    "print(X.head())\n",
    "print(\"\\nPrimeiras 5 linhas do dataset Iris (target - espécies):\")\n",
    "print(y_named.head())\n",
    "\n",
    "# Dividir os dados em conjuntos de treino e teste\n",
    "X_train, X_test, y_train, y_test = train_test_split(X, y_named, test_size=0.2, random_state=42)\n",
    "\n",
    "print(f\"\\nTamanho do conjunto de treino: {len(X_train)} amostras\")\n",
    "print(f\"Tamanho do conjunto de teste: {len(X_test)} amostras\")"
   ]
  },
  {
   "cell_type": "code",
   "execution_count": 14,
   "id": "12893d71",
   "metadata": {},
   "outputs": [
    {
     "ename": "TypeError",
     "evalue": "AutoClassifier.configure() got an unexpected keyword argument 'n_jobs'",
     "output_type": "error",
     "traceback": [
      "\u001b[1;31m---------------------------------------------------------------------------\u001b[0m",
      "\u001b[1;31mTypeError\u001b[0m                                 Traceback (most recent call last)",
      "Cell \u001b[1;32mIn[14], line 7\u001b[0m\n\u001b[0;32m      5\u001b[0m automl \u001b[38;5;241m=\u001b[39m AutoClassifier()  \u001b[38;5;66;03m# Desativa paralelismo\u001b[39;00m\n\u001b[0;32m      6\u001b[0m \u001b[38;5;66;03m# O método .fit() inicia o processo de busca do melhor modelo\u001b[39;00m\n\u001b[1;32m----> 7\u001b[0m \u001b[43mautoml\u001b[49m\u001b[38;5;241;43m.\u001b[39;49m\u001b[43mconfigure\u001b[49m\u001b[43m(\u001b[49m\u001b[43mn_jobs\u001b[49m\u001b[38;5;241;43m=\u001b[39;49m\u001b[38;5;241;43m1\u001b[39;49m\u001b[43m)\u001b[49m\n\u001b[0;32m      9\u001b[0m \u001b[38;5;66;03m#est1 = automlx.Pipeline(task = 'classification', model_list=['DecisionTreeClassifier']) # Cria um pipeline de automação de machine learning para classificação\u001b[39;00m\n\u001b[0;32m     10\u001b[0m automl\u001b[38;5;241m.\u001b[39mfit(X_train, y_train) \u001b[38;5;66;03m# Treina o modelo com os dados de treino\u001b[39;00m\n",
      "\u001b[1;31mTypeError\u001b[0m: AutoClassifier.configure() got an unexpected keyword argument 'n_jobs'"
     ]
    }
   ],
   "source": [
    "import automlx as automlx\n",
    "from automlx import init \n",
    "from automlx import AutoClassifier  \n",
    "\n",
    "automl = AutoClassifier()  # Desativa paralelismo\n",
    "# O método .fit() inicia o processo de busca do melhor modelo\n",
    "\n",
    "#est1 = automlx.Pipeline(task = 'classification', model_list=['DecisionTreeClassifier']) # Cria um pipeline de automação de machine learning para classificação\n",
    "model = automl.fit(X_train, y_train) # Treina o modelo com os dados de treino\n"
   ]
  }
 ],
 "metadata": {
  "kernelspec": {
   "display_name": "Python 3 (ipykernel)",
   "language": "python",
   "name": "python3"
  },
  "language_info": {
   "codemirror_mode": {
    "name": "ipython",
    "version": 3
   },
   "file_extension": ".py",
   "mimetype": "text/x-python",
   "name": "python",
   "nbconvert_exporter": "python",
   "pygments_lexer": "ipython3",
   "version": "3.10.18"
  }
 },
 "nbformat": 4,
 "nbformat_minor": 5
}
